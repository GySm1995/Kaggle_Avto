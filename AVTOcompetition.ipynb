{
 "cells": [
  {
   "cell_type": "markdown",
   "id": "a21a9e70",
   "metadata": {},
   "source": [
    "# Kaggle competition"
   ]
  },
  {
   "cell_type": "markdown",
   "id": "d5493c7d",
   "metadata": {},
   "source": [
    "## Описание задачи"
   ]
  },
  {
   "cell_type": "markdown",
   "id": "e4a3923a",
   "metadata": {},
   "source": [
    "Описание задачи\n",
    "Многие знают про маркетплейсы где продаются б/у вещи, на которых есть возможность недорого купить качественную и полезную вещь. Но всегда волнует вопрос - кто и как устанавливает цену, и какие его характеристики больше всего влияют на итоговую стоимость продажи?! Вопрос становиться особо актуальным, если речь идет про дорогие товары, например про автомобили!\n",
    "Предлагаем вам принять участие в Мастерской, в рамках которой вы сможете поработать с данными о продажах автомобилей на вторичном рынке. Целью вашего проекта будет разработанная модель предсказания стоимости автомобиля на вторичном рынке.\n",
    "\n",
    "В этом конкурсе ваша задача - разработать модель для предсказания стоимости продажи автомобиля на вторичном рынке.\n",
    "\n",
    "Данные\n",
    "train.csv - информация о продажах (440000) автомобилей с аукционов, которые будут использоваться в качестве обучающих данных.\n",
    "test.csv - информация о продажах (110000) автомобилей с аукционов, которые будут использоваться в качестве тестовых данных. Ваша задача - предсказать значение 'sellingprice' для каждого автомобиля из этого датасета.\n",
    "sample_submission.csv - файл предсказаний в правильном формате.\n",
    "vin - идентификатор каждого автомобиля в тестовом наборе.\n",
    "sellingprice - Целевой признак. Для каждого автомобиля предскажите числовое значение стоимости автомобиля."
   ]
  },
  {
   "cell_type": "markdown",
   "id": "9588b16d",
   "metadata": {},
   "source": [
    "Описание полей данных\n",
    "- 'year' - год производства\n",
    "- 'make' - производитель\n",
    "- 'model' - модель\n",
    "- 'trim' - модификация\n",
    "- 'body' - тип кузова\n",
    "- 'transmission' - тип КПП\n",
    "- 'vin' - идентификатор (вин)\n",
    "- 'state' - штат регистрации\n",
    "- 'condition' - состояние по шкале (1-5)\n",
    "- 'odometer' - пробег в милях\n",
    "- 'color' - цвет кузова\n",
    "- 'interior' - цвет интерьера\n",
    "- 'seller' - продавец\n",
    "- 'sellingprice' - стоимость продажи\n",
    "- 'saledate' - дата продажи"
   ]
  },
  {
   "cell_type": "markdown",
   "id": "11d52fec",
   "metadata": {},
   "source": [
    "## Импорт библиотек, подготовка и предобработка данных"
   ]
  },
  {
   "cell_type": "code",
   "execution_count": 3,
   "id": "50fb9736",
   "metadata": {},
   "outputs": [],
   "source": [
    "import pandas as pd\n",
    "import numpy as np\n",
    "import matplotlib as mpl\n",
    "from dateutil.parser import parse\n",
    "from datetime import datetime\n",
    "import matplotlib.pyplot as plt\n",
    "import seaborn as sns\n",
    "import itertools\n",
    "\n",
    "import time\n",
    "\n",
    "from sklearn.model_selection import train_test_split, RandomizedSearchCV, GridSearchCV\n",
    "from sklearn.pipeline import Pipeline\n",
    "from sklearn.experimental import enable_iterative_imputer\n",
    "from sklearn.impute import SimpleImputer, IterativeImputer\n",
    "from sklearn.compose import ColumnTransformer\n",
    "from sklearn.preprocessing import StandardScaler, RobustScaler, MinMaxScaler, OneHotEncoder\n",
    "from sklearn import metrics\n",
    "from sklearn.metrics import make_scorer\n",
    "from sklearn.metrics import mean_absolute_percentage_error as mape\n",
    "from sklearn.ensemble import RandomForestRegressor, GradientBoostingRegressor\n",
    "from sklearn.tree import DecisionTreeRegressor\n",
    "from sklearn.linear_model import LinearRegression, Ridge, ElasticNet, SGDRegressor, HuberRegressor\n",
    "from lightgbm import LGBMRegressor\n",
    "from xgboost.sklearn import XGBRegressor\n",
    "from catboost import CatBoostRegressor\n",
    "from sklearn.neural_network import MLPRegressor"
   ]
  },
  {
   "cell_type": "code",
   "execution_count": 4,
   "id": "ddca43f9",
   "metadata": {},
   "outputs": [],
   "source": [
    "train = pd.read_csv('train.csv', low_memory=True)\n",
    "test = pd.read_csv('test.csv', low_memory=True)"
   ]
  },
  {
   "cell_type": "code",
   "execution_count": 5,
   "id": "f3adf5fb",
   "metadata": {},
   "outputs": [
    {
     "name": "stdout",
     "output_type": "stream",
     "text": [
      "<class 'pandas.core.frame.DataFrame'>\n",
      "RangeIndex: 440236 entries, 0 to 440235\n",
      "Data columns (total 15 columns):\n",
      " #   Column        Non-Null Count   Dtype  \n",
      "---  ------        --------------   -----  \n",
      " 0   year          440236 non-null  int64  \n",
      " 1   make          432193 non-null  object \n",
      " 2   model         432113 non-null  object \n",
      " 3   trim          431899 non-null  object \n",
      " 4   body          429843 non-null  object \n",
      " 5   transmission  388775 non-null  object \n",
      " 6   vin           440236 non-null  object \n",
      " 7   state         440236 non-null  object \n",
      " 8   condition     430831 non-null  float64\n",
      " 9   odometer      440167 non-null  float64\n",
      " 10  color         439650 non-null  object \n",
      " 11  interior      439650 non-null  object \n",
      " 12  seller        440236 non-null  object \n",
      " 13  sellingprice  440236 non-null  int64  \n",
      " 14  saledate      440236 non-null  object \n",
      "dtypes: float64(2), int64(2), object(11)\n",
      "memory usage: 50.4+ MB\n",
      "<class 'pandas.core.frame.DataFrame'>\n",
      "RangeIndex: 110058 entries, 0 to 110057\n",
      "Data columns (total 14 columns):\n",
      " #   Column        Non-Null Count   Dtype  \n",
      "---  ------        --------------   -----  \n",
      " 0   year          110058 non-null  int64  \n",
      " 1   make          107997 non-null  object \n",
      " 2   model         107979 non-null  object \n",
      " 3   trim          107944 non-null  object \n",
      " 4   body          107464 non-null  object \n",
      " 5   transmission  97047 non-null   object \n",
      " 6   vin           110058 non-null  object \n",
      " 7   state         110058 non-null  object \n",
      " 8   condition     107679 non-null  float64\n",
      " 9   odometer      110039 non-null  float64\n",
      " 10  color         109900 non-null  object \n",
      " 11  interior      109900 non-null  object \n",
      " 12  seller        110058 non-null  object \n",
      " 13  saledate      110058 non-null  object \n",
      "dtypes: float64(2), int64(1), object(11)\n",
      "memory usage: 11.8+ MB\n"
     ]
    }
   ],
   "source": [
    "train.info()\n",
    "test.info()"
   ]
  },
  {
   "cell_type": "code",
   "execution_count": 6,
   "id": "3b0be299",
   "metadata": {},
   "outputs": [
    {
     "data": {
      "text/html": [
       "<div>\n",
       "<style scoped>\n",
       "    .dataframe tbody tr th:only-of-type {\n",
       "        vertical-align: middle;\n",
       "    }\n",
       "\n",
       "    .dataframe tbody tr th {\n",
       "        vertical-align: top;\n",
       "    }\n",
       "\n",
       "    .dataframe thead th {\n",
       "        text-align: right;\n",
       "    }\n",
       "</style>\n",
       "<table border=\"1\" class=\"dataframe\">\n",
       "  <thead>\n",
       "    <tr style=\"text-align: right;\">\n",
       "      <th></th>\n",
       "      <th>year</th>\n",
       "      <th>make</th>\n",
       "      <th>model</th>\n",
       "      <th>trim</th>\n",
       "      <th>body</th>\n",
       "      <th>transmission</th>\n",
       "      <th>vin</th>\n",
       "      <th>state</th>\n",
       "      <th>condition</th>\n",
       "      <th>odometer</th>\n",
       "      <th>color</th>\n",
       "      <th>interior</th>\n",
       "      <th>seller</th>\n",
       "      <th>sellingprice</th>\n",
       "      <th>saledate</th>\n",
       "    </tr>\n",
       "  </thead>\n",
       "  <tbody>\n",
       "    <tr>\n",
       "      <th>0</th>\n",
       "      <td>2011</td>\n",
       "      <td>Ford</td>\n",
       "      <td>Edge</td>\n",
       "      <td>SEL</td>\n",
       "      <td>suv</td>\n",
       "      <td>automatic</td>\n",
       "      <td>2fmdk3jc4bba41556</td>\n",
       "      <td>md</td>\n",
       "      <td>4.2</td>\n",
       "      <td>111041.0</td>\n",
       "      <td>black</td>\n",
       "      <td>black</td>\n",
       "      <td>santander consumer</td>\n",
       "      <td>12500</td>\n",
       "      <td>Tue Jun 02 2015 02:30:00 GMT-0700 (PDT)</td>\n",
       "    </tr>\n",
       "    <tr>\n",
       "      <th>1</th>\n",
       "      <td>2014</td>\n",
       "      <td>Ford</td>\n",
       "      <td>Fusion</td>\n",
       "      <td>SE</td>\n",
       "      <td>Sedan</td>\n",
       "      <td>automatic</td>\n",
       "      <td>3fa6p0h75er208976</td>\n",
       "      <td>mo</td>\n",
       "      <td>3.5</td>\n",
       "      <td>31034.0</td>\n",
       "      <td>black</td>\n",
       "      <td>black</td>\n",
       "      <td>ars/avis budget group</td>\n",
       "      <td>14500</td>\n",
       "      <td>Wed Feb 25 2015 02:00:00 GMT-0800 (PST)</td>\n",
       "    </tr>\n",
       "    <tr>\n",
       "      <th>2</th>\n",
       "      <td>2012</td>\n",
       "      <td>Nissan</td>\n",
       "      <td>Sentra</td>\n",
       "      <td>2.0 SL</td>\n",
       "      <td>sedan</td>\n",
       "      <td>automatic</td>\n",
       "      <td>3n1ab6ap4cl698412</td>\n",
       "      <td>nj</td>\n",
       "      <td>2.2</td>\n",
       "      <td>35619.0</td>\n",
       "      <td>black</td>\n",
       "      <td>black</td>\n",
       "      <td>nissan-infiniti lt</td>\n",
       "      <td>9100</td>\n",
       "      <td>Wed Jun 10 2015 02:30:00 GMT-0700 (PDT)</td>\n",
       "    </tr>\n",
       "    <tr>\n",
       "      <th>3</th>\n",
       "      <td>2003</td>\n",
       "      <td>HUMMER</td>\n",
       "      <td>H2</td>\n",
       "      <td>Base</td>\n",
       "      <td>suv</td>\n",
       "      <td>automatic</td>\n",
       "      <td>5grgn23u93h101360</td>\n",
       "      <td>tx</td>\n",
       "      <td>2.8</td>\n",
       "      <td>131301.0</td>\n",
       "      <td>gold</td>\n",
       "      <td>beige</td>\n",
       "      <td>wichita falls ford lin inc</td>\n",
       "      <td>13300</td>\n",
       "      <td>Wed Jun 17 2015 03:00:00 GMT-0700 (PDT)</td>\n",
       "    </tr>\n",
       "    <tr>\n",
       "      <th>4</th>\n",
       "      <td>2007</td>\n",
       "      <td>Ford</td>\n",
       "      <td>Fusion</td>\n",
       "      <td>SEL</td>\n",
       "      <td>Sedan</td>\n",
       "      <td>automatic</td>\n",
       "      <td>3fahp08z17r268380</td>\n",
       "      <td>md</td>\n",
       "      <td>2.0</td>\n",
       "      <td>127709.0</td>\n",
       "      <td>black</td>\n",
       "      <td>black</td>\n",
       "      <td>purple heart</td>\n",
       "      <td>1300</td>\n",
       "      <td>Tue Feb 03 2015 04:00:00 GMT-0800 (PST)</td>\n",
       "    </tr>\n",
       "  </tbody>\n",
       "</table>\n",
       "</div>"
      ],
      "text/plain": [
       "   year    make   model    trim   body transmission                vin state  \\\n",
       "0  2011    Ford    Edge     SEL    suv    automatic  2fmdk3jc4bba41556    md   \n",
       "1  2014    Ford  Fusion      SE  Sedan    automatic  3fa6p0h75er208976    mo   \n",
       "2  2012  Nissan  Sentra  2.0 SL  sedan    automatic  3n1ab6ap4cl698412    nj   \n",
       "3  2003  HUMMER      H2    Base    suv    automatic  5grgn23u93h101360    tx   \n",
       "4  2007    Ford  Fusion     SEL  Sedan    automatic  3fahp08z17r268380    md   \n",
       "\n",
       "   condition  odometer  color interior                      seller  \\\n",
       "0        4.2  111041.0  black    black          santander consumer   \n",
       "1        3.5   31034.0  black    black       ars/avis budget group   \n",
       "2        2.2   35619.0  black    black          nissan-infiniti lt   \n",
       "3        2.8  131301.0   gold    beige  wichita falls ford lin inc   \n",
       "4        2.0  127709.0  black    black                purple heart   \n",
       "\n",
       "   sellingprice                                 saledate  \n",
       "0         12500  Tue Jun 02 2015 02:30:00 GMT-0700 (PDT)  \n",
       "1         14500  Wed Feb 25 2015 02:00:00 GMT-0800 (PST)  \n",
       "2          9100  Wed Jun 10 2015 02:30:00 GMT-0700 (PDT)  \n",
       "3         13300  Wed Jun 17 2015 03:00:00 GMT-0700 (PDT)  \n",
       "4          1300  Tue Feb 03 2015 04:00:00 GMT-0800 (PST)  "
      ]
     },
     "execution_count": 6,
     "metadata": {},
     "output_type": "execute_result"
    }
   ],
   "source": [
    "train.head(5)"
   ]
  },
  {
   "cell_type": "code",
   "execution_count": 7,
   "id": "58cc4534",
   "metadata": {},
   "outputs": [
    {
     "data": {
      "text/html": [
       "<div>\n",
       "<style scoped>\n",
       "    .dataframe tbody tr th:only-of-type {\n",
       "        vertical-align: middle;\n",
       "    }\n",
       "\n",
       "    .dataframe tbody tr th {\n",
       "        vertical-align: top;\n",
       "    }\n",
       "\n",
       "    .dataframe thead th {\n",
       "        text-align: right;\n",
       "    }\n",
       "</style>\n",
       "<table border=\"1\" class=\"dataframe\">\n",
       "  <thead>\n",
       "    <tr style=\"text-align: right;\">\n",
       "      <th></th>\n",
       "      <th>year</th>\n",
       "      <th>make</th>\n",
       "      <th>model</th>\n",
       "      <th>trim</th>\n",
       "      <th>body</th>\n",
       "      <th>transmission</th>\n",
       "      <th>vin</th>\n",
       "      <th>state</th>\n",
       "      <th>condition</th>\n",
       "      <th>odometer</th>\n",
       "      <th>color</th>\n",
       "      <th>interior</th>\n",
       "      <th>seller</th>\n",
       "      <th>saledate</th>\n",
       "    </tr>\n",
       "  </thead>\n",
       "  <tbody>\n",
       "    <tr>\n",
       "      <th>0</th>\n",
       "      <td>2005</td>\n",
       "      <td>Cadillac</td>\n",
       "      <td>CTS</td>\n",
       "      <td>Base</td>\n",
       "      <td>Sedan</td>\n",
       "      <td>automatic</td>\n",
       "      <td>1g6dp567450124779</td>\n",
       "      <td>ca</td>\n",
       "      <td>2.7</td>\n",
       "      <td>116970.0</td>\n",
       "      <td>silver</td>\n",
       "      <td>black</td>\n",
       "      <td>lexus of stevens creek</td>\n",
       "      <td>Wed Jan 14 2015 04:30:00 GMT-0800 (PST)</td>\n",
       "    </tr>\n",
       "    <tr>\n",
       "      <th>1</th>\n",
       "      <td>2014</td>\n",
       "      <td>GMC</td>\n",
       "      <td>Savana Cargo</td>\n",
       "      <td>2500</td>\n",
       "      <td>Van</td>\n",
       "      <td>NaN</td>\n",
       "      <td>1gtw7fca7e1902207</td>\n",
       "      <td>pa</td>\n",
       "      <td>4.4</td>\n",
       "      <td>6286.0</td>\n",
       "      <td>white</td>\n",
       "      <td>gray</td>\n",
       "      <td>u-haul</td>\n",
       "      <td>Fri Feb 27 2015 01:00:00 GMT-0800 (PST)</td>\n",
       "    </tr>\n",
       "    <tr>\n",
       "      <th>2</th>\n",
       "      <td>2013</td>\n",
       "      <td>Nissan</td>\n",
       "      <td>Murano</td>\n",
       "      <td>S</td>\n",
       "      <td>SUV</td>\n",
       "      <td>automatic</td>\n",
       "      <td>jn8az1mw6dw303497</td>\n",
       "      <td>oh</td>\n",
       "      <td>4.6</td>\n",
       "      <td>11831.0</td>\n",
       "      <td>gray</td>\n",
       "      <td>black</td>\n",
       "      <td>nissan-infiniti lt</td>\n",
       "      <td>Tue Feb 24 2015 01:30:00 GMT-0800 (PST)</td>\n",
       "    </tr>\n",
       "    <tr>\n",
       "      <th>3</th>\n",
       "      <td>2013</td>\n",
       "      <td>Chevrolet</td>\n",
       "      <td>Impala</td>\n",
       "      <td>LS Fleet</td>\n",
       "      <td>Sedan</td>\n",
       "      <td>automatic</td>\n",
       "      <td>2g1wf5e34d1160703</td>\n",
       "      <td>fl</td>\n",
       "      <td>2.3</td>\n",
       "      <td>57105.0</td>\n",
       "      <td>silver</td>\n",
       "      <td>black</td>\n",
       "      <td>onemain rem/auto club of miami inc dba north dad</td>\n",
       "      <td>Fri Mar 06 2015 02:00:00 GMT-0800 (PST)</td>\n",
       "    </tr>\n",
       "    <tr>\n",
       "      <th>4</th>\n",
       "      <td>2013</td>\n",
       "      <td>Nissan</td>\n",
       "      <td>Titan</td>\n",
       "      <td>SV</td>\n",
       "      <td>Crew Cab</td>\n",
       "      <td>automatic</td>\n",
       "      <td>1n6aa0ec3dn301209</td>\n",
       "      <td>tn</td>\n",
       "      <td>2.9</td>\n",
       "      <td>31083.0</td>\n",
       "      <td>black</td>\n",
       "      <td>black</td>\n",
       "      <td>nissan north america inc.</td>\n",
       "      <td>Wed Jun 03 2015 03:30:00 GMT-0700 (PDT)</td>\n",
       "    </tr>\n",
       "  </tbody>\n",
       "</table>\n",
       "</div>"
      ],
      "text/plain": [
       "   year       make         model      trim      body transmission  \\\n",
       "0  2005   Cadillac           CTS      Base     Sedan    automatic   \n",
       "1  2014        GMC  Savana Cargo      2500       Van          NaN   \n",
       "2  2013     Nissan        Murano         S       SUV    automatic   \n",
       "3  2013  Chevrolet        Impala  LS Fleet     Sedan    automatic   \n",
       "4  2013     Nissan         Titan        SV  Crew Cab    automatic   \n",
       "\n",
       "                 vin state  condition  odometer   color interior  \\\n",
       "0  1g6dp567450124779    ca        2.7  116970.0  silver    black   \n",
       "1  1gtw7fca7e1902207    pa        4.4    6286.0   white     gray   \n",
       "2  jn8az1mw6dw303497    oh        4.6   11831.0    gray    black   \n",
       "3  2g1wf5e34d1160703    fl        2.3   57105.0  silver    black   \n",
       "4  1n6aa0ec3dn301209    tn        2.9   31083.0   black    black   \n",
       "\n",
       "                                             seller  \\\n",
       "0                            lexus of stevens creek   \n",
       "1                                            u-haul   \n",
       "2                                nissan-infiniti lt   \n",
       "3  onemain rem/auto club of miami inc dba north dad   \n",
       "4                         nissan north america inc.   \n",
       "\n",
       "                                  saledate  \n",
       "0  Wed Jan 14 2015 04:30:00 GMT-0800 (PST)  \n",
       "1  Fri Feb 27 2015 01:00:00 GMT-0800 (PST)  \n",
       "2  Tue Feb 24 2015 01:30:00 GMT-0800 (PST)  \n",
       "3  Fri Mar 06 2015 02:00:00 GMT-0800 (PST)  \n",
       "4  Wed Jun 03 2015 03:30:00 GMT-0700 (PDT)  "
      ]
     },
     "execution_count": 7,
     "metadata": {},
     "output_type": "execute_result"
    }
   ],
   "source": [
    "test.head(5)"
   ]
  },
  {
   "cell_type": "code",
   "execution_count": 8,
   "id": "6e3dfabe",
   "metadata": {},
   "outputs": [],
   "source": [
    "train['saledate']=train['saledate'].apply(lambda x: pd.to_datetime(parse(x)))\n",
    "test['saledate']=test['saledate'].apply(lambda x: pd.to_datetime(parse(x)))"
   ]
  },
  {
   "cell_type": "code",
   "execution_count": 9,
   "id": "ff12b930",
   "metadata": {},
   "outputs": [],
   "source": [
    "#добавляем количество годов пользования\n",
    "date_format = \"%Y-%m-%d %H:%M:%S%z\"\n",
    "train['use_time'] = train['saledate'].apply(lambda x: datetime.strptime(str(x), date_format).year)-train['year']\n",
    "test['use_time'] = test['saledate'].apply(lambda x: datetime.strptime(str(x), date_format).year)-test['year']"
   ]
  },
  {
   "cell_type": "code",
   "execution_count": 10,
   "id": "2a30fb3c",
   "metadata": {},
   "outputs": [
    {
     "name": "stdout",
     "output_type": "stream",
     "text": [
      "[-1]\n"
     ]
    },
    {
     "data": {
      "text/plain": [
       "(166, 16)"
      ]
     },
     "execution_count": 10,
     "metadata": {},
     "output_type": "execute_result"
    }
   ],
   "source": [
    "print(train[train['use_time']<0]['use_time'].unique()) #продали машину до того как произвели - мб сразу с завода\n",
    "# требует пояснения\n",
    "# -1 есть и в тестовых данных\n",
    "train[train['use_time']<0].shape"
   ]
  },
  {
   "cell_type": "code",
   "execution_count": 11,
   "id": "e85bc095",
   "metadata": {},
   "outputs": [
    {
     "name": "stdout",
     "output_type": "stream",
     "text": [
      "[-1]\n"
     ]
    },
    {
     "data": {
      "text/plain": [
       "(35, 15)"
      ]
     },
     "execution_count": 11,
     "metadata": {},
     "output_type": "execute_result"
    }
   ],
   "source": [
    "print(test[test['use_time']<0]['use_time'].unique())\n",
    "test[test['use_time']<0].shape"
   ]
  },
  {
   "cell_type": "code",
   "execution_count": 12,
   "id": "b9d9d739",
   "metadata": {},
   "outputs": [
    {
     "name": "stdout",
     "output_type": "stream",
     "text": [
      "[2015 2014]\n",
      "[2015 2014]\n"
     ]
    }
   ],
   "source": [
    "#год продажи авто - параметр не значимый для обучения модели\n",
    "print(train['saledate'].apply(lambda x: datetime.strptime(str(x), date_format).year).unique())\n",
    "print(test['saledate'].apply(lambda x: datetime.strptime(str(x), date_format).year).unique())"
   ]
  },
  {
   "cell_type": "code",
   "execution_count": 13,
   "id": "175b8256",
   "metadata": {},
   "outputs": [
    {
     "name": "stdout",
     "output_type": "stream",
     "text": [
      "0\n",
      "0\n"
     ]
    }
   ],
   "source": [
    "#дубликаты\n",
    "print(train.duplicated().sum())\n",
    "print(test.duplicated().sum())"
   ]
  },
  {
   "cell_type": "code",
   "execution_count": 14,
   "id": "a3e5a60a",
   "metadata": {},
   "outputs": [
    {
     "name": "stdout",
     "output_type": "stream",
     "text": [
      "0\n",
      "0\n"
     ]
    }
   ],
   "source": [
    "print(train['vin'].duplicated().sum())\n",
    "print(test['vin'].duplicated().sum())"
   ]
  },
  {
   "cell_type": "code",
   "execution_count": 15,
   "id": "19ad9bdf",
   "metadata": {},
   "outputs": [
    {
     "name": "stdout",
     "output_type": "stream",
     "text": [
      "0\n",
      "0\n"
     ]
    }
   ],
   "source": [
    "print(train.drop(columns=['vin']).duplicated().sum())\n",
    "print(test.drop(columns=['vin']).duplicated().sum())"
   ]
  },
  {
   "cell_type": "markdown",
   "id": "203442f8",
   "metadata": {},
   "source": [
    "Дубликатов vin - нет и строк также нет. "
   ]
  },
  {
   "cell_type": "code",
   "execution_count": 16,
   "id": "24be746b",
   "metadata": {},
   "outputs": [],
   "source": [
    "def nul_sum(x):\n",
    "    n1 = str(x)\n",
    "    return print(x, ': ',train[n1].isnull().sum(), test[n1].isnull().sum())"
   ]
  },
  {
   "cell_type": "code",
   "execution_count": 17,
   "id": "e9b626e7",
   "metadata": {},
   "outputs": [
    {
     "name": "stdout",
     "output_type": "stream",
     "text": [
      " feat   train   test \n",
      "year :  0 0\n",
      "make :  8043 2061\n",
      "model :  8123 2079\n",
      "trim :  8337 2114\n",
      "body :  10393 2594\n",
      "transmission :  51461 13011\n",
      "vin :  0 0\n",
      "state :  0 0\n",
      "condition :  9405 2379\n",
      "odometer :  69 19\n",
      "color :  586 158\n",
      "interior :  586 158\n",
      "seller :  0 0\n",
      "saledate :  0 0\n",
      "use_time :  0 0\n"
     ]
    }
   ],
   "source": [
    "#вывод суммы пропусков в каждом ДФ (мне так удобнее смотреть)\n",
    "print(' feat ', ' train ' , ' test ' )\n",
    "for i in test.columns:\n",
    "    nul_sum(i)"
   ]
  },
  {
   "cell_type": "markdown",
   "id": "bce3b331",
   "metadata": {},
   "source": [
    "отсутствие пробега - эти данные можно исключить, отсутствующие данные по цвету - можно исключить или добавить категорию - \"не указано\""
   ]
  },
  {
   "cell_type": "code",
   "execution_count": 18,
   "id": "1fc20823",
   "metadata": {},
   "outputs": [
    {
     "name": "stdout",
     "output_type": "stream",
     "text": [
      "62\n"
     ]
    },
    {
     "data": {
      "text/plain": [
       "array(['ford', 'nissan', 'hummer', 'lincoln', 'pontiac', 'hyundai', nan,\n",
       "       'buick', 'chevrolet', 'honda', 'acura', 'cadillac', 'gmc', 'saab',\n",
       "       'dodge', 'mercedes-benz', 'toyota', 'volkswagen', 'bmw',\n",
       "       'infiniti', 'chrysler', 'kia', 'jaguar', 'subaru', 'jeep', 'lexus',\n",
       "       'mercedes', 'scion', 'fiat', 'suzuki', 'mazda', 'volvo', 'audi',\n",
       "       'mini', 'isuzu', 'mitsubishi', 'smart', 'porsche', 'land rover',\n",
       "       'saturn', 'ram', 'oldsmobile', 'mercury', 'bentley', 'fisker',\n",
       "       'maserati', 'tesla', 'landrover', 'vw', 'gmc truck', 'rolls-royce',\n",
       "       'ferrari', 'plymouth', 'lamborghini', 'geo', 'ford truck',\n",
       "       'aston martin', 'daewoo', 'mercedes-b', 'dodge tk', 'mazda tk',\n",
       "       'dot', 'airstream'], dtype=object)"
      ]
     },
     "execution_count": 18,
     "metadata": {},
     "output_type": "execute_result"
    }
   ],
   "source": [
    "train['make']=train['make'].str.lower()\n",
    "print(train['make'].nunique()) # есть дубликаты\n",
    "train['make'].unique()"
   ]
  },
  {
   "cell_type": "code",
   "execution_count": 19,
   "id": "f109d708",
   "metadata": {},
   "outputs": [
    {
     "name": "stdout",
     "output_type": "stream",
     "text": [
      "58\n"
     ]
    },
    {
     "data": {
      "text/plain": [
       "array(['cadillac', 'gmc', 'nissan', 'chevrolet', 'volkswagen', 'hyundai',\n",
       "       'ford', 'infiniti', 'subaru', 'kia', 'bmw', nan, 'mitsubishi',\n",
       "       'dodge', 'oldsmobile', 'volvo', 'pontiac', 'acura', 'honda',\n",
       "       'toyota', 'audi', 'jeep', 'lincoln', 'chrysler', 'mercedes-benz',\n",
       "       'ram', 'scion', 'mercury', 'lexus', 'saturn', 'mazda', 'porsche',\n",
       "       'mini', 'smart', 'buick', 'hummer', 'jaguar', 'fiat', 'saab',\n",
       "       'suzuki', 'land rover', 'landrover', 'geo', 'chev truck',\n",
       "       'bentley', 'isuzu', 'aston martin', 'maserati', 'daewoo', 'vw',\n",
       "       'tesla', 'mercedes', 'ferrari', 'fisker', 'rolls-royce', 'lotus',\n",
       "       'plymouth', 'hyundai tk', 'ford tk'], dtype=object)"
      ]
     },
     "execution_count": 19,
     "metadata": {},
     "output_type": "execute_result"
    }
   ],
   "source": [
    "test['make']=test['make'].str.lower()\n",
    "print(test['make'].nunique()) # есть дубликаты\n",
    "test['make'].unique()"
   ]
  },
  {
   "cell_type": "code",
   "execution_count": 20,
   "id": "8b1a8612",
   "metadata": {},
   "outputs": [],
   "source": [
    "#уменьшу кол-во категорий в признаке \"производитель\"\n",
    "category_mapping = {\n",
    "    'ford': 'ford',\n",
    "    'nissan': 'nissan',\n",
    "    'hummer': 'hummer',\n",
    "    'lincoln': 'lincoln',\n",
    "    'pontiac': 'pontiac',\n",
    "    'hyundai': 'hyundai',\n",
    "    'buick': 'buick',\n",
    "    'chevrolet': 'chevrolet',\n",
    "    'honda': 'honda',\n",
    "    'acura': 'acura',\n",
    "    'cadillac': 'cadillac',\n",
    "    'gmc': 'gmc',\n",
    "    'saab': 'saab',\n",
    "    'dodge': 'dodge',\n",
    "    'mercedes-benz': 'mercedes',\n",
    "    'toyota': 'toyota',\n",
    "    'volkswagen': 'volkswagen',\n",
    "    'bmw': 'bmw',\n",
    "    'infiniti': 'infiniti',\n",
    "    'chrysler': 'chrysler',\n",
    "    'kia': 'kia',\n",
    "    'jaguar': 'jaguar',\n",
    "    'subaru': 'subaru',\n",
    "    'jeep': 'jeep',\n",
    "    'lexus': 'lexus',\n",
    "    'mercedes': 'mercedes',\n",
    "    'scion': 'scion',\n",
    "    'fiat': 'fiat',\n",
    "    'suzuki': 'suzuki',\n",
    "    'mazda': 'mazda',\n",
    "    'volvo': 'volvo',\n",
    "    'audi': 'audi',\n",
    "    'mini': 'mini',\n",
    "    'isuzu': 'isuzu',\n",
    "    'mitsubishi': 'mitsubishi',\n",
    "    'smart': 'smart',\n",
    "    'porsche': 'porsche',\n",
    "    'land rover': 'land rover',\n",
    "    'saturn': 'saturn',\n",
    "    'ram': 'ram',\n",
    "    'oldsmobile': 'oldsmobile',\n",
    "    'mercury': 'mercury',\n",
    "    'bentley': 'bentley',\n",
    "    'fisker': 'fisker',\n",
    "    'maserati': 'maserati',\n",
    "    'tesla': 'tesla',\n",
    "    'landrover': 'land rover',\n",
    "    'vw': 'volkswagen',\n",
    "    'gmc truck': 'gmc',\n",
    "    'rolls-royce': 'rolls-royce',\n",
    "    'ferrari': 'ferrari',\n",
    "    'plymouth': 'plymouth',\n",
    "    'lamborghini': 'lamborghini',\n",
    "    'geo': 'geo',\n",
    "    'ford truck': 'ford',\n",
    "    'aston martin': 'aston martin',\n",
    "    'daewoo': 'daewoo',\n",
    "    'mercedes-b': 'mercedes',\n",
    "    'dodge tk': 'dodge',\n",
    "    'mazda tk': 'mazda',\n",
    "    'dot': 'dot',\n",
    "    'airstream': 'airstream'\n",
    "}\n",
    "train['make'] = train['make'].replace(category_mapping)\n",
    "test['make'] = test['make'].replace(category_mapping)"
   ]
  },
  {
   "cell_type": "code",
   "execution_count": 21,
   "id": "2f13050f",
   "metadata": {},
   "outputs": [
    {
     "name": "stdout",
     "output_type": "stream",
     "text": [
      "54\n",
      "55\n"
     ]
    }
   ],
   "source": [
    "print(train['make'].nunique())\n",
    "print(test['make'].nunique())"
   ]
  },
  {
   "cell_type": "code",
   "execution_count": 22,
   "id": "cfb75b7c",
   "metadata": {},
   "outputs": [
    {
     "name": "stdout",
     "output_type": "stream",
     "text": [
      "839\n",
      "746\n"
     ]
    }
   ],
   "source": [
    "train['model']=train['model'].str.lower()\n",
    "print(train['model'].nunique()) # есть дубликаты\n",
    "test['model']=test['model'].str.lower()\n",
    "print(test['model'].nunique()) # есть дубликаты"
   ]
  },
  {
   "cell_type": "code",
   "execution_count": 23,
   "id": "6c522679",
   "metadata": {},
   "outputs": [
    {
     "data": {
      "text/plain": [
       "array(['suv', 'Sedan', 'sedan', nan, 'SUV', 'wagon', 'Minivan',\n",
       "       'Extended Cab', 'Regular Cab', 'Coupe', 'SuperCrew', 'Wagon',\n",
       "       'convertible', 'Crew Cab', 'SuperCab', 'Convertible', 'Hatchback',\n",
       "       'minivan', 'hatchback', 'G Coupe', 'G Convertible', 'coupe',\n",
       "       'Access Cab', 'G Sedan', 'regular cab', 'e-series van',\n",
       "       'supercrew', 'Quad Cab', 'tsx sport wagon', 'Van', 'g sedan',\n",
       "       'E-Series Van', 'CTS Coupe', 'Koup', 'King Cab', 'extended cab',\n",
       "       'double cab', 'Elantra Coupe', 'koup', 'access cab', 'Double Cab',\n",
       "       'crew cab', 'quad cab', 'g coupe', 'CrewMax Cab', 'supercab',\n",
       "       'g convertible', 'Genesis Coupe', 'van', 'G37 Coupe', 'club cab',\n",
       "       'Beetle Convertible', 'Mega Cab', 'regular-cab', 'Xtracab',\n",
       "       'cts coupe', 'genesis coupe', 'Club Cab', 'q60 coupe', 'mega cab',\n",
       "       'crewmax cab', 'Promaster Cargo Van', 'king cab', 'CTS-V Coupe',\n",
       "       'TSX Sport Wagon', 'CTS Wagon', 'Cab Plus 4', 'G37 Convertible',\n",
       "       'Transit Van', 'Q60 Convertible', 'elantra coupe',\n",
       "       'beetle convertible', 'Q60 Coupe', 'promaster cargo van',\n",
       "       'Cab Plus', 'transit van', 'g37 convertible', 'g37 coupe',\n",
       "       'Ram Van', 'granturismo convertible', 'GranTurismo Convertible',\n",
       "       'cab plus 4', 'xtracab', 'cts-v coupe', 'q60 convertible',\n",
       "       'CTS-V Wagon'], dtype=object)"
      ]
     },
     "execution_count": 23,
     "metadata": {},
     "output_type": "execute_result"
    }
   ],
   "source": [
    "train['body'].unique() "
   ]
  },
  {
   "cell_type": "code",
   "execution_count": 24,
   "id": "4c574cb3",
   "metadata": {},
   "outputs": [
    {
     "data": {
      "text/plain": [
       "array(['Sedan', 'Van', 'SUV', 'Crew Cab', 'wagon', 'G Sedan', 'Hatchback',\n",
       "       'sedan', 'Convertible', 'crew cab', nan, 'van', 'Minivan', 'Wagon',\n",
       "       'Coupe', 'suv', 'supercrew', 'minivan', 'SuperCrew', 'quad cab',\n",
       "       'g coupe', 'CrewMax Cab', 'Regular Cab', 'G37 Coupe', 'hatchback',\n",
       "       'Quad Cab', 'regular cab', 'coupe', 'E-Series Van', 'Extended Cab',\n",
       "       'supercab', 'e-series van', 'Access Cab', 'G Coupe', 'convertible',\n",
       "       'Double Cab', 'extended cab', 'SuperCab', 'king cab', 'g sedan',\n",
       "       'CTS Coupe', 'genesis coupe', 'Beetle Convertible', 'access cab',\n",
       "       'Promaster Cargo Van', 'crewmax cab', 'G Convertible', 'Mega Cab',\n",
       "       'koup', 'Elantra Coupe', 'Koup', 'Q60 Convertible',\n",
       "       'g convertible', 'Q60 Coupe', 'double cab', 'Club Cab', 'King Cab',\n",
       "       'CTS-V Coupe', 'Xtracab', 'Genesis Coupe', 'tsx sport wagon',\n",
       "       'club cab', 'mega cab', 'cts coupe', 'elantra coupe',\n",
       "       'cts-v coupe', 'granturismo convertible', 'Cab Plus',\n",
       "       'TSX Sport Wagon', 'promaster cargo van', 'G37 Convertible',\n",
       "       'regular-cab', 'Transit Van', 'CTS Wagon', 'transit van',\n",
       "       'GranTurismo Convertible', 'q60 convertible', 'xtracab'],\n",
       "      dtype=object)"
      ]
     },
     "execution_count": 24,
     "metadata": {},
     "output_type": "execute_result"
    }
   ],
   "source": [
    "test['body'].unique() "
   ]
  },
  {
   "cell_type": "code",
   "execution_count": 25,
   "id": "ce22dbe0",
   "metadata": {},
   "outputs": [
    {
     "name": "stdout",
     "output_type": "stream",
     "text": [
      "45\n",
      "42\n"
     ]
    }
   ],
   "source": [
    "train['body']=train['body'].str.lower()\n",
    "print(train['body'].nunique()) # есть дубликаты\n",
    "test['body']=test['body'].str.lower()\n",
    "print(test['body'].nunique()) # есть дубликаты"
   ]
  },
  {
   "cell_type": "code",
   "execution_count": 26,
   "id": "f9dc39e0",
   "metadata": {},
   "outputs": [],
   "source": [
    "#уменьшу кол-во категорий в признаке \"тип кузова\"\n",
    "category_mapping = {\n",
    "    'suv': 'suv',\n",
    "    'sedan': 'sedan',\n",
    "    'wagon': 'wagon',\n",
    "    'minivan': 'minivan',\n",
    "    'extended cab': 'truck',\n",
    "    'regular cab': 'truck',\n",
    "    'coupe': 'coupe',\n",
    "    'supercrew': 'truck',\n",
    "    'convertible': 'convertible',\n",
    "    'crew cab': 'truck',\n",
    "    'supercab': 'truck',\n",
    "    'hatchback': 'hatchback',\n",
    "    'g coupe': 'coupe',\n",
    "    'g convertible': 'convertible',\n",
    "    'access cab': 'truck',\n",
    "    'g sedan': 'sedan',\n",
    "    'e-series van': 'van',\n",
    "    'quad cab': 'truck',\n",
    "    'tsx sport wagon': 'wagon',\n",
    "    'van': 'van',\n",
    "    'cts coupe': 'coupe',\n",
    "    'koup': 'coupe',\n",
    "    'king cab': 'truck',\n",
    "    'double cab': 'truck',\n",
    "    'elantra coupe': 'coupe',\n",
    "    'crewmax cab': 'truck',\n",
    "    'genesis coupe': 'coupe',\n",
    "    'g37 coupe': 'coupe',\n",
    "    'club cab': 'truck',\n",
    "    'beetle convertible': 'convertible',\n",
    "    'mega cab': 'truck',\n",
    "    'regular-cab': 'truck',\n",
    "    'xtracab': 'truck',\n",
    "    'q60 coupe': 'coupe',\n",
    "    'promaster cargo van': 'van',\n",
    "    'cts-v coupe': 'coupe',\n",
    "    'cts wagon': 'wagon',\n",
    "    'cab plus 4': 'truck',\n",
    "    'g37 convertible': 'convertible',\n",
    "    'transit van': 'van',\n",
    "    'q60 convertible': 'convertible',\n",
    "    'cab plus': 'truck',\n",
    "    'ram van': 'van',\n",
    "    'granturismo convertible': 'convertible',\n",
    "    'cts-v wagon': 'wagon'\n",
    "}\n",
    "train['body'] = train['body'].replace(category_mapping)\n",
    "test['body'] = test['body'].replace(category_mapping)"
   ]
  },
  {
   "cell_type": "code",
   "execution_count": 27,
   "id": "edcd0b8a",
   "metadata": {},
   "outputs": [
    {
     "name": "stdout",
     "output_type": "stream",
     "text": [
      "['sedan' 'van' 'suv' 'truck' 'wagon' 'hatchback' 'convertible' nan\n",
      " 'minivan' 'coupe']\n",
      "['suv' 'sedan' nan 'wagon' 'minivan' 'truck' 'coupe' 'convertible'\n",
      " 'hatchback' 'van']\n"
     ]
    }
   ],
   "source": [
    "print(test['body'].unique())\n",
    "print(train['body'].unique())"
   ]
  },
  {
   "cell_type": "code",
   "execution_count": 28,
   "id": "28afdbbb",
   "metadata": {},
   "outputs": [
    {
     "name": "stdout",
     "output_type": "stream",
     "text": [
      "1850\n",
      "1457\n"
     ]
    }
   ],
   "source": [
    "train['trim']=train['trim'].str.lower()\n",
    "print(train['trim'].nunique()) # есть дубликаты\n",
    "test['trim']=test['trim'].str.lower()\n",
    "print(test['trim'].nunique()) # есть дубликаты"
   ]
  },
  {
   "cell_type": "markdown",
   "id": "797f8ef3",
   "metadata": {},
   "source": [
    "~ примерно 1000 моделей и больше модификаций..."
   ]
  },
  {
   "cell_type": "code",
   "execution_count": 29,
   "id": "032a301c",
   "metadata": {},
   "outputs": [],
   "source": [
    "train['year']=train['year'].astype('int')\n",
    "test['year']=test['year'].astype('int')\n",
    "train[['state', 'vin']]=train[['state', 'vin']].astype('str')\n",
    "test[['state', 'vin']]=test[['state', 'vin']].astype('str')"
   ]
  },
  {
   "cell_type": "code",
   "execution_count": 30,
   "id": "2ff7233e",
   "metadata": {},
   "outputs": [
    {
     "name": "stdout",
     "output_type": "stream",
     "text": [
      "38\n",
      "38\n"
     ]
    }
   ],
   "source": [
    "train['state']=train['state'].str.lower()\n",
    "print(train['state'].nunique())\n",
    "test['state']=test['state'].str.lower()\n",
    "print(test['state'].nunique())"
   ]
  },
  {
   "cell_type": "code",
   "execution_count": 31,
   "id": "7f900b5d",
   "metadata": {},
   "outputs": [
    {
     "data": {
      "text/plain": [
       "array(['ca', 'pa', 'oh', 'fl', 'tn', 'nc', 'il', 'ga', 'in', 'mi', 'tx',\n",
       "       'wi', 'ny', 'pr', 'sc', 'wa', 'mn', 'md', 'co', 'va', 'la', 'nv',\n",
       "       'mo', 'ut', 'on', 'ma', 'qc', 'ms', 'nj', 'az', 'hi', 'or', 'ab',\n",
       "       'ne', 'nm', 'ns', 'ok', 'al'], dtype=object)"
      ]
     },
     "execution_count": 31,
     "metadata": {},
     "output_type": "execute_result"
    }
   ],
   "source": [
    "test['state'].unique() "
   ]
  },
  {
   "cell_type": "code",
   "execution_count": 32,
   "id": "cf5a7e0e",
   "metadata": {},
   "outputs": [
    {
     "data": {
      "text/plain": [
       "array(['ca', 'pa', 'oh', 'fl', 'tn', 'nc', 'il', 'ga', 'in', 'mi', 'tx',\n",
       "       'wi', 'ny', 'pr', 'sc', 'wa', 'mn', 'md', 'co', 'va', 'la', 'nv',\n",
       "       'mo', 'ut', 'on', 'ma', 'qc', 'ms', 'nj', 'az', 'hi', 'or', 'ab',\n",
       "       'ne', 'nm', 'ns', 'ok', 'al'], dtype=object)"
      ]
     },
     "execution_count": 32,
     "metadata": {},
     "output_type": "execute_result"
    }
   ],
   "source": [
    "test['state'].unique() "
   ]
  },
  {
   "cell_type": "code",
   "execution_count": 33,
   "id": "bd932985",
   "metadata": {},
   "outputs": [
    {
     "name": "stdout",
     "output_type": "stream",
     "text": [
      "13025\n",
      "7623\n"
     ]
    }
   ],
   "source": [
    "train['seller']=train['seller'].str.lower()\n",
    "print(train['seller'].nunique())\n",
    "test['seller']=test['seller'].str.lower()\n",
    "print(test['seller'].nunique())"
   ]
  },
  {
   "cell_type": "code",
   "execution_count": 34,
   "id": "422dc104",
   "metadata": {},
   "outputs": [
    {
     "name": "stdout",
     "output_type": "stream",
     "text": [
      "17\n",
      "17\n"
     ]
    }
   ],
   "source": [
    "train['interior']=train['interior'].str.lower()\n",
    "print(train['interior'].nunique())\n",
    "test['interior']=test['interior'].str.lower()\n",
    "print(test['interior'].nunique())"
   ]
  },
  {
   "cell_type": "code",
   "execution_count": 35,
   "id": "7c176681",
   "metadata": {},
   "outputs": [
    {
     "name": "stdout",
     "output_type": "stream",
     "text": [
      "20\n",
      "20\n"
     ]
    }
   ],
   "source": [
    "train['color']=train['color'].str.lower()\n",
    "print(train['color'].nunique())\n",
    "test['color']=test['color'].str.lower()\n",
    "print(test['color'].nunique())"
   ]
  },
  {
   "cell_type": "code",
   "execution_count": 36,
   "id": "171d5f1a",
   "metadata": {},
   "outputs": [
    {
     "name": "stdout",
     "output_type": "stream",
     "text": [
      "2\n",
      "2\n"
     ]
    }
   ],
   "source": [
    "train['transmission']=train['transmission'].str.lower()\n",
    "print(train['transmission'].nunique())\n",
    "test['color']=test['transmission'].str.lower()\n",
    "print(test['transmission'].nunique())"
   ]
  },
  {
   "cell_type": "code",
   "execution_count": 37,
   "id": "05703c21",
   "metadata": {},
   "outputs": [],
   "source": [
    "#назначу целевой признак, количественные и категориальные признаки \n",
    "target = 'sellingprice'\n",
    "numeric_features = ['year', 'condition', 'odometer', 'use_time']\n",
    "categorical_features = ['make', 'body', 'state', 'model', 'color', 'interior', 'transmission', 'trim', 'seller']\n",
    "train_data = train[numeric_features+categorical_features]\n",
    "test_data = test[numeric_features+categorical_features]\n",
    "\n",
    "X_train = train_data\n",
    "y_train = train[target]\n",
    "X_test = test_data\n",
    "\n",
    "#для кодирования и нормировки и заполнения пропусков\n",
    "combined_data = pd.concat([X_train, X_test], ignore_index=True)\n",
    "train_index = len(X_train)"
   ]
  },
  {
   "cell_type": "code",
   "execution_count": 38,
   "id": "ac466a32",
   "metadata": {},
   "outputs": [],
   "source": [
    "#пропуски в категориальных данных заполню кат.'Н/у' и модой\n",
    "combined_data['make'] = combined_data['make'].fillna('Н/у')\n",
    "combined_data['body'] = combined_data['body'].fillna('Н/у')\n",
    "combined_data['model'] = combined_data['model'].fillna('Н/у')\n",
    "combined_data['color'] = combined_data['color'].fillna(combined_data['color'].mode().iloc[0])\n",
    "combined_data['interior'] = combined_data['interior'].fillna(combined_data['interior'].mode().iloc[0])\n",
    "combined_data['transmission'] = combined_data['transmission'].fillna(combined_data['transmission'].mode().iloc[0])\n",
    "combined_data['trim'] = combined_data['trim'].fillna(combined_data['trim'].mode().iloc[0])"
   ]
  },
  {
   "cell_type": "code",
   "execution_count": 39,
   "id": "4cc9df24",
   "metadata": {},
   "outputs": [],
   "source": [
    "#заполняю пропуски количественных данных медианой по группе use_time\n",
    "combined_data.isnull().sum()\n",
    "combined_data['odometer'] = combined_data.groupby('use_time')['odometer'].transform(lambda x: x.fillna(x.median()))\n",
    "combined_data['condition'] = combined_data.groupby(['use_time', 'state'])['condition'].transform(lambda x: x.fillna(x.median()))\n",
    "combined_data['condition'] = combined_data.groupby(['use_time'])['condition'].transform(lambda x: x.fillna(x.median()))"
   ]
  },
  {
   "cell_type": "code",
   "execution_count": 40,
   "id": "b9977477",
   "metadata": {},
   "outputs": [
    {
     "data": {
      "text/plain": [
       "year            0\n",
       "condition       0\n",
       "odometer        0\n",
       "use_time        0\n",
       "make            0\n",
       "body            0\n",
       "state           0\n",
       "model           0\n",
       "color           0\n",
       "interior        0\n",
       "transmission    0\n",
       "trim            0\n",
       "seller          0\n",
       "dtype: int64"
      ]
     },
     "execution_count": 40,
     "metadata": {},
     "output_type": "execute_result"
    }
   ],
   "source": [
    "combined_data.isnull().sum()"
   ]
  },
  {
   "cell_type": "markdown",
   "id": "e7390df9",
   "metadata": {},
   "source": [
    "Пропуски заполнены. "
   ]
  },
  {
   "cell_type": "markdown",
   "id": "7e0acf7e",
   "metadata": {},
   "source": [
    "### Анализ данных"
   ]
  },
  {
   "cell_type": "code",
   "execution_count": 41,
   "id": "62a803d5",
   "metadata": {},
   "outputs": [],
   "source": [
    "#разделю датасет на изначальные train и test\n",
    "X_train = combined_data.iloc[:train_index]\n",
    "X_test = combined_data.iloc[train_index:]\n",
    "#датасет для анализа \n",
    "data = X_train\n",
    "data = data.merge(y_train, left_index=True, right_index=True)"
   ]
  },
  {
   "cell_type": "code",
   "execution_count": 42,
   "id": "e33a9633",
   "metadata": {},
   "outputs": [],
   "source": [
    "#для CatBoost\n",
    "X_train_CatBoost = X_train.copy()\n",
    "X_test_CatBoost = X_test.copy()\n",
    "y_train_CatBoost = y_train.copy()\n",
    "#для \n",
    "X_train_lgbm = X_train.copy()\n",
    "X_test_lgbm = X_test.copy()\n",
    "y_train_lgbm = y_train.copy()"
   ]
  },
  {
   "cell_type": "code",
   "execution_count": 43,
   "id": "10741e89",
   "metadata": {},
   "outputs": [
    {
     "data": {
      "image/png": "[encoded data removed]",
      "text/plain": [
       "<Figure size 900x450 with 2 Axes>"
      ]
     },
     "metadata": {},
     "output_type": "display_data"
    }
   ],
   "source": [
    "plt.figure(figsize=(6,3), dpi= 150)\n",
    "sns.heatmap(data.corr().round(2), xticklabels=data.corr().columns, yticklabels=data.corr().columns, cmap='GnBu', center=0, annot=True)\n",
    "\n",
    "plt.title('Корелляционная матрица количественных признаков', fontsize=10)\n",
    "plt.xticks(fontsize=6)\n",
    "plt.yticks(fontsize=6)\n",
    "plt.show()"
   ]
  },
  {
   "cell_type": "markdown",
   "id": "b5c80d69",
   "metadata": {},
   "source": [
    "От количественных признаков целевой очень хорошо зависит и хорошо коррелирует (простите за повтор). Пробег сильно зависит от времени использования. Чем дольше владеют, тем хуже состояние - логично. Чем старше машина, тем хуже состояние. Также признаки год и время использования - коллинеарны. Не буду использовать при обучении use_time."
   ]
  },
  {
   "cell_type": "code",
   "execution_count": 44,
   "id": "64ba3298",
   "metadata": {},
   "outputs": [
    {
     "data": {
      "text/html": [
       "<div>\n",
       "<style scoped>\n",
       "    .dataframe tbody tr th:only-of-type {\n",
       "        vertical-align: middle;\n",
       "    }\n",
       "\n",
       "    .dataframe tbody tr th {\n",
       "        vertical-align: top;\n",
       "    }\n",
       "\n",
       "    .dataframe thead th {\n",
       "        text-align: right;\n",
       "    }\n",
       "</style>\n",
       "<table border=\"1\" class=\"dataframe\">\n",
       "  <thead>\n",
       "    <tr style=\"text-align: right;\">\n",
       "      <th></th>\n",
       "      <th>year</th>\n",
       "      <th>condition</th>\n",
       "      <th>odometer</th>\n",
       "      <th>use_time</th>\n",
       "      <th>sellingprice</th>\n",
       "    </tr>\n",
       "  </thead>\n",
       "  <tbody>\n",
       "    <tr>\n",
       "      <th>count</th>\n",
       "      <td>440236.000000</td>\n",
       "      <td>440236.000000</td>\n",
       "      <td>440236.000000</td>\n",
       "      <td>440236.000000</td>\n",
       "      <td>440236.000000</td>\n",
       "    </tr>\n",
       "    <tr>\n",
       "      <th>mean</th>\n",
       "      <td>2010.040101</td>\n",
       "      <td>3.411840</td>\n",
       "      <td>68352.421695</td>\n",
       "      <td>4.862410</td>\n",
       "      <td>13592.209588</td>\n",
       "    </tr>\n",
       "    <tr>\n",
       "      <th>std</th>\n",
       "      <td>3.977945</td>\n",
       "      <td>0.948964</td>\n",
       "      <td>53544.099303</td>\n",
       "      <td>3.954387</td>\n",
       "      <td>9751.479098</td>\n",
       "    </tr>\n",
       "    <tr>\n",
       "      <th>min</th>\n",
       "      <td>1982.000000</td>\n",
       "      <td>1.000000</td>\n",
       "      <td>1.000000</td>\n",
       "      <td>-1.000000</td>\n",
       "      <td>1.000000</td>\n",
       "    </tr>\n",
       "    <tr>\n",
       "      <th>25%</th>\n",
       "      <td>2007.000000</td>\n",
       "      <td>2.700000</td>\n",
       "      <td>28259.000000</td>\n",
       "      <td>2.000000</td>\n",
       "      <td>6900.000000</td>\n",
       "    </tr>\n",
       "    <tr>\n",
       "      <th>50%</th>\n",
       "      <td>2012.000000</td>\n",
       "      <td>3.600000</td>\n",
       "      <td>52103.000000</td>\n",
       "      <td>3.000000</td>\n",
       "      <td>12100.000000</td>\n",
       "    </tr>\n",
       "    <tr>\n",
       "      <th>75%</th>\n",
       "      <td>2013.000000</td>\n",
       "      <td>4.200000</td>\n",
       "      <td>99283.000000</td>\n",
       "      <td>7.000000</td>\n",
       "      <td>18200.000000</td>\n",
       "    </tr>\n",
       "    <tr>\n",
       "      <th>max</th>\n",
       "      <td>2015.000000</td>\n",
       "      <td>5.000000</td>\n",
       "      <td>999999.000000</td>\n",
       "      <td>33.000000</td>\n",
       "      <td>230000.000000</td>\n",
       "    </tr>\n",
       "  </tbody>\n",
       "</table>\n",
       "</div>"
      ],
      "text/plain": [
       "                year      condition       odometer       use_time  \\\n",
       "count  440236.000000  440236.000000  440236.000000  440236.000000   \n",
       "mean     2010.040101       3.411840   68352.421695       4.862410   \n",
       "std         3.977945       0.948964   53544.099303       3.954387   \n",
       "min      1982.000000       1.000000       1.000000      -1.000000   \n",
       "25%      2007.000000       2.700000   28259.000000       2.000000   \n",
       "50%      2012.000000       3.600000   52103.000000       3.000000   \n",
       "75%      2013.000000       4.200000   99283.000000       7.000000   \n",
       "max      2015.000000       5.000000  999999.000000      33.000000   \n",
       "\n",
       "        sellingprice  \n",
       "count  440236.000000  \n",
       "mean    13592.209588  \n",
       "std      9751.479098  \n",
       "min         1.000000  \n",
       "25%      6900.000000  \n",
       "50%     12100.000000  \n",
       "75%     18200.000000  \n",
       "max    230000.000000  "
      ]
     },
     "execution_count": 44,
     "metadata": {},
     "output_type": "execute_result"
    }
   ],
   "source": [
    "data.describe()"
   ]
  },
  {
   "cell_type": "code",
   "execution_count": 45,
   "id": "ac0dcba6",
   "metadata": {},
   "outputs": [
    {
     "data": {
      "text/plain": [
       "<Axes: xlabel='year', ylabel='sellingprice'>"
      ]
     },
     "execution_count": 45,
     "metadata": {},
     "output_type": "execute_result"
    },
    {
     "data": {
      "image/png": "[encoded data removed]",
      "text/plain": [
       "<Figure size 640x480 with 1 Axes>"
      ]
     },
     "metadata": {},
     "output_type": "display_data"
    }
   ],
   "source": [
    "sns.scatterplot(x=\"year\", y=\"sellingprice\", data=data)"
   ]
  },
  {
   "cell_type": "code",
   "execution_count": 46,
   "id": "50510d32",
   "metadata": {},
   "outputs": [
    {
     "data": {
      "text/plain": [
       "ford            74070\n",
       "chevrolet       47818\n",
       "nissan          42866\n",
       "toyota          31711\n",
       "dodge           24295\n",
       "honda           21600\n",
       "hyundai         17187\n",
       "bmw             16254\n",
       "kia             14325\n",
       "chrysler        13796\n",
       "mercedes        13408\n",
       "infiniti        12123\n",
       "jeep            12107\n",
       "volkswagen       9901\n",
       "lexus            9363\n",
       "gmc              8368\n",
       "Н/у              8043\n",
       "mazda            6704\n",
       "cadillac         5958\n",
       "acura            4679\n",
       "audi             4635\n",
       "lincoln          4541\n",
       "buick            4023\n",
       "subaru           4019\n",
       "pontiac          3596\n",
       "ram              3592\n",
       "mitsubishi       3413\n",
       "volvo            2958\n",
       "mini             2473\n",
       "saturn           2247\n",
       "mercury          1561\n",
       "land rover       1476\n",
       "scion            1338\n",
       "jaguar           1100\n",
       "porsche          1094\n",
       "suzuki            846\n",
       "fiat              672\n",
       "hummer            597\n",
       "saab              384\n",
       "smart             311\n",
       "oldsmobile        294\n",
       "isuzu             163\n",
       "maserati          112\n",
       "bentley            91\n",
       "aston martin       23\n",
       "plymouth           23\n",
       "tesla              17\n",
       "ferrari            17\n",
       "geo                16\n",
       "rolls-royce        14\n",
       "fisker              7\n",
       "lamborghini         4\n",
       "daewoo              1\n",
       "dot                 1\n",
       "airstream           1\n",
       "Name: make, dtype: int64"
      ]
     },
     "execution_count": 46,
     "metadata": {},
     "output_type": "execute_result"
    }
   ],
   "source": [
    "#производитель - количество\n",
    "data['make'].value_counts()"
   ]
  },
  {
   "cell_type": "code",
   "execution_count": 47,
   "id": "b40a8c66",
   "metadata": {},
   "outputs": [
    {
     "data": {
      "text/plain": [
       "(array([0., 2., 0., ..., 0., 0., 1.]),\n",
       " array([0.0000e+00, 1.0000e+00, 2.0000e+00, ..., 9.9998e+04, 9.9999e+04,\n",
       "        1.0000e+05]),\n",
       " <BarContainer object of 100000 artists>)"
      ]
     },
     "execution_count": 47,
     "metadata": {},
     "output_type": "execute_result"
    },
    {
     "data": {
      "image/png": "[encoded data removed]",
      "text/plain": [
       "<Figure size 640x480 with 1 Axes>"
      ]
     },
     "metadata": {},
     "output_type": "display_data"
    }
   ],
   "source": [
    "# Построение гистограммы\n",
    "plt.hist(data['sellingprice'], bins=100000, range=(0, 100000), color='blue', edgecolor='blue', alpha=0.7)"
   ]
  },
  {
   "cell_type": "code",
   "execution_count": 48,
   "id": "6c7c3cb1",
   "metadata": {},
   "outputs": [
    {
     "data": {
      "text/plain": [
       "<Axes: xlabel='sellingprice'>"
      ]
     },
     "execution_count": 48,
     "metadata": {},
     "output_type": "execute_result"
    },
    {
     "data": {
      "image/png": "[encoded data removed]",
      "text/plain": [
       "<Figure size 640x480 with 1 Axes>"
      ]
     },
     "metadata": {},
     "output_type": "display_data"
    }
   ],
   "source": [
    "sns.boxplot(x=data['sellingprice'])"
   ]
  },
  {
   "cell_type": "markdown",
   "id": "cdca8519",
   "metadata": {},
   "source": [
    "Есть маленькие и огромные цены. Для обучения использую ту часть данных, которая лежит в интервале: (q1-1/2*(q3-q1), q3+3*(q3-q1))"
   ]
  },
  {
   "cell_type": "code",
   "execution_count": 49,
   "id": "1ee8bfe1",
   "metadata": {},
   "outputs": [],
   "source": [
    "q1 = data['sellingprice'].quantile(q=0.25)\n",
    "q3 = data['sellingprice'].quantile(q=0.75)\n",
    "z1 = q1-1/2*(q3-q1)\n",
    "z2 = q3+3*(q3-q1)"
   ]
  },
  {
   "cell_type": "code",
   "execution_count": 50,
   "id": "be0b715d",
   "metadata": {},
   "outputs": [],
   "source": [
    "data = data[(data['sellingprice']>z1) & (data['sellingprice']<z2)]"
   ]
  },
  {
   "cell_type": "code",
   "execution_count": 51,
   "id": "45d3342b",
   "metadata": {},
   "outputs": [
    {
     "data": {
      "text/html": [
       "<div>\n",
       "<style scoped>\n",
       "    .dataframe tbody tr th:only-of-type {\n",
       "        vertical-align: middle;\n",
       "    }\n",
       "\n",
       "    .dataframe tbody tr th {\n",
       "        vertical-align: top;\n",
       "    }\n",
       "\n",
       "    .dataframe thead th {\n",
       "        text-align: right;\n",
       "    }\n",
       "</style>\n",
       "<table border=\"1\" class=\"dataframe\">\n",
       "  <thead>\n",
       "    <tr style=\"text-align: right;\">\n",
       "      <th></th>\n",
       "      <th>year</th>\n",
       "      <th>condition</th>\n",
       "      <th>odometer</th>\n",
       "      <th>use_time</th>\n",
       "      <th>sellingprice</th>\n",
       "    </tr>\n",
       "  </thead>\n",
       "  <tbody>\n",
       "    <tr>\n",
       "      <th>count</th>\n",
       "      <td>419991.000000</td>\n",
       "      <td>419991.000000</td>\n",
       "      <td>419991.000000</td>\n",
       "      <td>419991.000000</td>\n",
       "      <td>419991.00000</td>\n",
       "    </tr>\n",
       "    <tr>\n",
       "      <th>mean</th>\n",
       "      <td>2010.401480</td>\n",
       "      <td>3.466789</td>\n",
       "      <td>64651.844156</td>\n",
       "      <td>4.504444</td>\n",
       "      <td>13842.70412</td>\n",
       "    </tr>\n",
       "    <tr>\n",
       "      <th>std</th>\n",
       "      <td>3.539325</td>\n",
       "      <td>0.913848</td>\n",
       "      <td>49103.525871</td>\n",
       "      <td>3.520596</td>\n",
       "      <td>8620.67212</td>\n",
       "    </tr>\n",
       "    <tr>\n",
       "      <th>min</th>\n",
       "      <td>1982.000000</td>\n",
       "      <td>1.000000</td>\n",
       "      <td>1.000000</td>\n",
       "      <td>-1.000000</td>\n",
       "      <td>1280.00000</td>\n",
       "    </tr>\n",
       "    <tr>\n",
       "      <th>25%</th>\n",
       "      <td>2008.000000</td>\n",
       "      <td>2.800000</td>\n",
       "      <td>27764.000000</td>\n",
       "      <td>2.000000</td>\n",
       "      <td>7700.00000</td>\n",
       "    </tr>\n",
       "    <tr>\n",
       "      <th>50%</th>\n",
       "      <td>2012.000000</td>\n",
       "      <td>3.600000</td>\n",
       "      <td>49885.000000</td>\n",
       "      <td>3.000000</td>\n",
       "      <td>12500.00000</td>\n",
       "    </tr>\n",
       "    <tr>\n",
       "      <th>75%</th>\n",
       "      <td>2013.000000</td>\n",
       "      <td>4.200000</td>\n",
       "      <td>93865.500000</td>\n",
       "      <td>7.000000</td>\n",
       "      <td>18400.00000</td>\n",
       "    </tr>\n",
       "    <tr>\n",
       "      <th>max</th>\n",
       "      <td>2015.000000</td>\n",
       "      <td>5.000000</td>\n",
       "      <td>999999.000000</td>\n",
       "      <td>33.000000</td>\n",
       "      <td>52000.00000</td>\n",
       "    </tr>\n",
       "  </tbody>\n",
       "</table>\n",
       "</div>"
      ],
      "text/plain": [
       "                year      condition       odometer       use_time  \\\n",
       "count  419991.000000  419991.000000  419991.000000  419991.000000   \n",
       "mean     2010.401480       3.466789   64651.844156       4.504444   \n",
       "std         3.539325       0.913848   49103.525871       3.520596   \n",
       "min      1982.000000       1.000000       1.000000      -1.000000   \n",
       "25%      2008.000000       2.800000   27764.000000       2.000000   \n",
       "50%      2012.000000       3.600000   49885.000000       3.000000   \n",
       "75%      2013.000000       4.200000   93865.500000       7.000000   \n",
       "max      2015.000000       5.000000  999999.000000      33.000000   \n",
       "\n",
       "       sellingprice  \n",
       "count  419991.00000  \n",
       "mean    13842.70412  \n",
       "std      8620.67212  \n",
       "min      1280.00000  \n",
       "25%      7700.00000  \n",
       "50%     12500.00000  \n",
       "75%     18400.00000  \n",
       "max     52000.00000  "
      ]
     },
     "execution_count": 51,
     "metadata": {},
     "output_type": "execute_result"
    }
   ],
   "source": [
    "data.describe()"
   ]
  },
  {
   "cell_type": "code",
   "execution_count": 52,
   "id": "b5003355",
   "metadata": {},
   "outputs": [],
   "source": [
    "X_train = data.drop(columns='sellingprice', axis=1)\n",
    "y_train = data['sellingprice']"
   ]
  },
  {
   "cell_type": "markdown",
   "id": "998f9ce6",
   "metadata": {},
   "source": [
    "Количество данных отсеченных по целевому признаку ~ 30к. Категориальные данные model, trim и seller - закодируем следующим образом.: присвоим каждой категории число, равное частоте этой категории в данных. Остальные кат признаки буду кодировать методом ohe."
   ]
  },
  {
   "cell_type": "markdown",
   "id": "743d3ecb",
   "metadata": {},
   "source": [
    "отношение Н/у к общему количеству ~ 0.001"
   ]
  },
  {
   "cell_type": "code",
   "execution_count": 53,
   "id": "856a94e8",
   "metadata": {},
   "outputs": [],
   "source": [
    "combined_data = pd.concat([X_train, X_test], ignore_index=True)\n",
    "train_index = len(X_train)"
   ]
  },
  {
   "cell_type": "code",
   "execution_count": 54,
   "id": "b55c319a",
   "metadata": {},
   "outputs": [],
   "source": [
    "category_counts = combined_data['seller'].value_counts()\n",
    "combined_data['seller'] = combined_data['seller'].map(category_counts)\n",
    "category_counts = combined_data['trim'].value_counts()\n",
    "combined_data['trim'] = combined_data['trim'].map(category_counts)\n",
    "category_counts = combined_data['model'].value_counts()\n",
    "combined_data['model'] = combined_data['model'].map(category_counts)"
   ]
  },
  {
   "cell_type": "code",
   "execution_count": 55,
   "id": "74b6a60e",
   "metadata": {},
   "outputs": [],
   "source": [
    "#нормируем на множество (-1,1) количественные данные\n",
    "scaler = MinMaxScaler()\n",
    "combined_data[numeric_features] = scaler.fit_transform(combined_data[numeric_features])\n",
    "combined_data[['seller', 'trim', 'model']] = scaler.fit_transform(combined_data[['seller', 'trim', 'model']])"
   ]
  },
  {
   "cell_type": "code",
   "execution_count": 56,
   "id": "7231d540",
   "metadata": {},
   "outputs": [
    {
     "data": {
      "text/html": [
       "<div>\n",
       "<style scoped>\n",
       "    .dataframe tbody tr th:only-of-type {\n",
       "        vertical-align: middle;\n",
       "    }\n",
       "\n",
       "    .dataframe tbody tr th {\n",
       "        vertical-align: top;\n",
       "    }\n",
       "\n",
       "    .dataframe thead th {\n",
       "        text-align: right;\n",
       "    }\n",
       "</style>\n",
       "<table border=\"1\" class=\"dataframe\">\n",
       "  <thead>\n",
       "    <tr style=\"text-align: right;\">\n",
       "      <th></th>\n",
       "      <th>year</th>\n",
       "      <th>condition</th>\n",
       "      <th>odometer</th>\n",
       "      <th>use_time</th>\n",
       "      <th>make</th>\n",
       "      <th>body</th>\n",
       "      <th>state</th>\n",
       "      <th>model</th>\n",
       "      <th>color</th>\n",
       "      <th>interior</th>\n",
       "      <th>transmission</th>\n",
       "      <th>trim</th>\n",
       "      <th>seller</th>\n",
       "    </tr>\n",
       "  </thead>\n",
       "  <tbody>\n",
       "    <tr>\n",
       "      <th>0</th>\n",
       "      <td>0.878788</td>\n",
       "      <td>0.800</td>\n",
       "      <td>0.111040</td>\n",
       "      <td>0.147059</td>\n",
       "      <td>ford</td>\n",
       "      <td>suv</td>\n",
       "      <td>md</td>\n",
       "      <td>0.307717</td>\n",
       "      <td>black</td>\n",
       "      <td>black</td>\n",
       "      <td>automatic</td>\n",
       "      <td>0.168114</td>\n",
       "      <td>0.760815</td>\n",
       "    </tr>\n",
       "    <tr>\n",
       "      <th>1</th>\n",
       "      <td>0.969697</td>\n",
       "      <td>0.625</td>\n",
       "      <td>0.031033</td>\n",
       "      <td>0.058824</td>\n",
       "      <td>ford</td>\n",
       "      <td>sedan</td>\n",
       "      <td>mo</td>\n",
       "      <td>0.677178</td>\n",
       "      <td>black</td>\n",
       "      <td>black</td>\n",
       "      <td>automatic</td>\n",
       "      <td>0.691890</td>\n",
       "      <td>0.140562</td>\n",
       "    </tr>\n",
       "    <tr>\n",
       "      <th>2</th>\n",
       "      <td>0.909091</td>\n",
       "      <td>0.300</td>\n",
       "      <td>0.035618</td>\n",
       "      <td>0.117647</td>\n",
       "      <td>nissan</td>\n",
       "      <td>sedan</td>\n",
       "      <td>nj</td>\n",
       "      <td>0.277666</td>\n",
       "      <td>black</td>\n",
       "      <td>black</td>\n",
       "      <td>automatic</td>\n",
       "      <td>0.003502</td>\n",
       "      <td>1.000000</td>\n",
       "    </tr>\n",
       "    <tr>\n",
       "      <th>3</th>\n",
       "      <td>0.636364</td>\n",
       "      <td>0.450</td>\n",
       "      <td>0.131300</td>\n",
       "      <td>0.382353</td>\n",
       "      <td>hummer</td>\n",
       "      <td>suv</td>\n",
       "      <td>tx</td>\n",
       "      <td>0.015264</td>\n",
       "      <td>gold</td>\n",
       "      <td>beige</td>\n",
       "      <td>automatic</td>\n",
       "      <td>1.000000</td>\n",
       "      <td>0.008795</td>\n",
       "    </tr>\n",
       "    <tr>\n",
       "      <th>4</th>\n",
       "      <td>0.757576</td>\n",
       "      <td>0.250</td>\n",
       "      <td>0.127708</td>\n",
       "      <td>0.264706</td>\n",
       "      <td>ford</td>\n",
       "      <td>sedan</td>\n",
       "      <td>md</td>\n",
       "      <td>0.677178</td>\n",
       "      <td>black</td>\n",
       "      <td>black</td>\n",
       "      <td>automatic</td>\n",
       "      <td>0.168114</td>\n",
       "      <td>0.013777</td>\n",
       "    </tr>\n",
       "  </tbody>\n",
       "</table>\n",
       "</div>"
      ],
      "text/plain": [
       "       year  condition  odometer  use_time    make   body state     model  \\\n",
       "0  0.878788      0.800  0.111040  0.147059    ford    suv    md  0.307717   \n",
       "1  0.969697      0.625  0.031033  0.058824    ford  sedan    mo  0.677178   \n",
       "2  0.909091      0.300  0.035618  0.117647  nissan  sedan    nj  0.277666   \n",
       "3  0.636364      0.450  0.131300  0.382353  hummer    suv    tx  0.015264   \n",
       "4  0.757576      0.250  0.127708  0.264706    ford  sedan    md  0.677178   \n",
       "\n",
       "   color interior transmission      trim    seller  \n",
       "0  black    black    automatic  0.168114  0.760815  \n",
       "1  black    black    automatic  0.691890  0.140562  \n",
       "2  black    black    automatic  0.003502  1.000000  \n",
       "3   gold    beige    automatic  1.000000  0.008795  \n",
       "4  black    black    automatic  0.168114  0.013777  "
      ]
     },
     "execution_count": 56,
     "metadata": {},
     "output_type": "execute_result"
    }
   ],
   "source": [
    "combined_data.head(5)"
   ]
  },
  {
   "cell_type": "code",
   "execution_count": 57,
   "id": "db60540b",
   "metadata": {},
   "outputs": [],
   "source": [
    "#кодируем категориальные данные\n",
    "categorical_features = ['make', 'body', 'state', 'color', 'interior', 'transmission']\n",
    "encoded_data = pd.get_dummies(combined_data[categorical_features])\n",
    "combined_data = pd.concat([combined_data, encoded_data], axis=1)"
   ]
  },
  {
   "cell_type": "code",
   "execution_count": 58,
   "id": "5c0c62af",
   "metadata": {},
   "outputs": [],
   "source": [
    "combined_data = combined_data.drop(columns=categorical_features, axis=1)"
   ]
  },
  {
   "cell_type": "code",
   "execution_count": 59,
   "id": "afb2758b",
   "metadata": {},
   "outputs": [
    {
     "data": {
      "text/html": [
       "<div>\n",
       "<style scoped>\n",
       "    .dataframe tbody tr th:only-of-type {\n",
       "        vertical-align: middle;\n",
       "    }\n",
       "\n",
       "    .dataframe tbody tr th {\n",
       "        vertical-align: top;\n",
       "    }\n",
       "\n",
       "    .dataframe thead th {\n",
       "        text-align: right;\n",
       "    }\n",
       "</style>\n",
       "<table border=\"1\" class=\"dataframe\">\n",
       "  <thead>\n",
       "    <tr style=\"text-align: right;\">\n",
       "      <th></th>\n",
       "      <th>year</th>\n",
       "      <th>condition</th>\n",
       "      <th>odometer</th>\n",
       "      <th>model</th>\n",
       "      <th>trim</th>\n",
       "      <th>seller</th>\n",
       "      <th>make_acura</th>\n",
       "      <th>make_aston martin</th>\n",
       "      <th>make_audi</th>\n",
       "      <th>make_bentley</th>\n",
       "      <th>...</th>\n",
       "      <th>interior_orange</th>\n",
       "      <th>interior_purple</th>\n",
       "      <th>interior_red</th>\n",
       "      <th>interior_silver</th>\n",
       "      <th>interior_tan</th>\n",
       "      <th>interior_white</th>\n",
       "      <th>interior_yellow</th>\n",
       "      <th>interior_—</th>\n",
       "      <th>transmission_automatic</th>\n",
       "      <th>transmission_manual</th>\n",
       "    </tr>\n",
       "  </thead>\n",
       "  <tbody>\n",
       "    <tr>\n",
       "      <th>0</th>\n",
       "      <td>0.878788</td>\n",
       "      <td>0.800</td>\n",
       "      <td>0.111040</td>\n",
       "      <td>0.307717</td>\n",
       "      <td>0.168114</td>\n",
       "      <td>0.760815</td>\n",
       "      <td>0</td>\n",
       "      <td>0</td>\n",
       "      <td>0</td>\n",
       "      <td>0</td>\n",
       "      <td>...</td>\n",
       "      <td>0</td>\n",
       "      <td>0</td>\n",
       "      <td>0</td>\n",
       "      <td>0</td>\n",
       "      <td>0</td>\n",
       "      <td>0</td>\n",
       "      <td>0</td>\n",
       "      <td>0</td>\n",
       "      <td>1</td>\n",
       "      <td>0</td>\n",
       "    </tr>\n",
       "    <tr>\n",
       "      <th>1</th>\n",
       "      <td>0.969697</td>\n",
       "      <td>0.625</td>\n",
       "      <td>0.031033</td>\n",
       "      <td>0.677178</td>\n",
       "      <td>0.691890</td>\n",
       "      <td>0.140562</td>\n",
       "      <td>0</td>\n",
       "      <td>0</td>\n",
       "      <td>0</td>\n",
       "      <td>0</td>\n",
       "      <td>...</td>\n",
       "      <td>0</td>\n",
       "      <td>0</td>\n",
       "      <td>0</td>\n",
       "      <td>0</td>\n",
       "      <td>0</td>\n",
       "      <td>0</td>\n",
       "      <td>0</td>\n",
       "      <td>0</td>\n",
       "      <td>1</td>\n",
       "      <td>0</td>\n",
       "    </tr>\n",
       "    <tr>\n",
       "      <th>2</th>\n",
       "      <td>0.909091</td>\n",
       "      <td>0.300</td>\n",
       "      <td>0.035618</td>\n",
       "      <td>0.277666</td>\n",
       "      <td>0.003502</td>\n",
       "      <td>1.000000</td>\n",
       "      <td>0</td>\n",
       "      <td>0</td>\n",
       "      <td>0</td>\n",
       "      <td>0</td>\n",
       "      <td>...</td>\n",
       "      <td>0</td>\n",
       "      <td>0</td>\n",
       "      <td>0</td>\n",
       "      <td>0</td>\n",
       "      <td>0</td>\n",
       "      <td>0</td>\n",
       "      <td>0</td>\n",
       "      <td>0</td>\n",
       "      <td>1</td>\n",
       "      <td>0</td>\n",
       "    </tr>\n",
       "    <tr>\n",
       "      <th>3</th>\n",
       "      <td>0.636364</td>\n",
       "      <td>0.450</td>\n",
       "      <td>0.131300</td>\n",
       "      <td>0.015264</td>\n",
       "      <td>1.000000</td>\n",
       "      <td>0.008795</td>\n",
       "      <td>0</td>\n",
       "      <td>0</td>\n",
       "      <td>0</td>\n",
       "      <td>0</td>\n",
       "      <td>...</td>\n",
       "      <td>0</td>\n",
       "      <td>0</td>\n",
       "      <td>0</td>\n",
       "      <td>0</td>\n",
       "      <td>0</td>\n",
       "      <td>0</td>\n",
       "      <td>0</td>\n",
       "      <td>0</td>\n",
       "      <td>1</td>\n",
       "      <td>0</td>\n",
       "    </tr>\n",
       "    <tr>\n",
       "      <th>4</th>\n",
       "      <td>0.757576</td>\n",
       "      <td>0.250</td>\n",
       "      <td>0.127708</td>\n",
       "      <td>0.677178</td>\n",
       "      <td>0.168114</td>\n",
       "      <td>0.013777</td>\n",
       "      <td>0</td>\n",
       "      <td>0</td>\n",
       "      <td>0</td>\n",
       "      <td>0</td>\n",
       "      <td>...</td>\n",
       "      <td>0</td>\n",
       "      <td>0</td>\n",
       "      <td>0</td>\n",
       "      <td>0</td>\n",
       "      <td>0</td>\n",
       "      <td>0</td>\n",
       "      <td>0</td>\n",
       "      <td>0</td>\n",
       "      <td>1</td>\n",
       "      <td>0</td>\n",
       "    </tr>\n",
       "  </tbody>\n",
       "</table>\n",
       "<p>5 rows × 151 columns</p>\n",
       "</div>"
      ],
      "text/plain": [
       "       year  condition  odometer     model      trim    seller  make_acura  \\\n",
       "0  0.878788      0.800  0.111040  0.307717  0.168114  0.760815           0   \n",
       "1  0.969697      0.625  0.031033  0.677178  0.691890  0.140562           0   \n",
       "2  0.909091      0.300  0.035618  0.277666  0.003502  1.000000           0   \n",
       "3  0.636364      0.450  0.131300  0.015264  1.000000  0.008795           0   \n",
       "4  0.757576      0.250  0.127708  0.677178  0.168114  0.013777           0   \n",
       "\n",
       "   make_aston martin  make_audi  make_bentley  ...  interior_orange  \\\n",
       "0                  0          0             0  ...                0   \n",
       "1                  0          0             0  ...                0   \n",
       "2                  0          0             0  ...                0   \n",
       "3                  0          0             0  ...                0   \n",
       "4                  0          0             0  ...                0   \n",
       "\n",
       "   interior_purple  interior_red  interior_silver  interior_tan  \\\n",
       "0                0             0                0             0   \n",
       "1                0             0                0             0   \n",
       "2                0             0                0             0   \n",
       "3                0             0                0             0   \n",
       "4                0             0                0             0   \n",
       "\n",
       "   interior_white  interior_yellow  interior_—  transmission_automatic  \\\n",
       "0               0                0           0                       1   \n",
       "1               0                0           0                       1   \n",
       "2               0                0           0                       1   \n",
       "3               0                0           0                       1   \n",
       "4               0                0           0                       1   \n",
       "\n",
       "   transmission_manual  \n",
       "0                    0  \n",
       "1                    0  \n",
       "2                    0  \n",
       "3                    0  \n",
       "4                    0  \n",
       "\n",
       "[5 rows x 151 columns]"
      ]
     },
     "execution_count": 59,
     "metadata": {},
     "output_type": "execute_result"
    }
   ],
   "source": [
    "combined_data = combined_data.drop(columns='use_time', axis=1) #use_time коллинеарен year\n",
    "combined_data.head(5)"
   ]
  },
  {
   "cell_type": "markdown",
   "id": "c1d02863",
   "metadata": {},
   "source": [
    "Данные не удалялись, анализировались только train - перемешивания не было. Разделю датасет combined_data на изначальный train и test"
   ]
  },
  {
   "cell_type": "code",
   "execution_count": 60,
   "id": "dfac4299",
   "metadata": {},
   "outputs": [],
   "source": [
    "#разделю датасет на изначальные train и test\n",
    "X_train = combined_data.iloc[:train_index]\n",
    "X_test = combined_data.iloc[train_index:]\n",
    "#y_train - остался без изменений"
   ]
  },
  {
   "cell_type": "code",
   "execution_count": 61,
   "id": "b07b4b4f",
   "metadata": {},
   "outputs": [
    {
     "data": {
      "text/plain": [
       "0         12500\n",
       "1         14500\n",
       "2          9100\n",
       "3         13300\n",
       "4          1300\n",
       "          ...  \n",
       "440231    16000\n",
       "440232    24250\n",
       "440233    16750\n",
       "440234    33000\n",
       "440235    14500\n",
       "Name: sellingprice, Length: 419991, dtype: int64"
      ]
     },
     "execution_count": 61,
     "metadata": {},
     "output_type": "execute_result"
    }
   ],
   "source": [
    "y_train"
   ]
  },
  {
   "cell_type": "code",
   "execution_count": 62,
   "id": "607669ea",
   "metadata": {},
   "outputs": [
    {
     "name": "stdout",
     "output_type": "stream",
     "text": [
      "419991\n",
      "419991\n"
     ]
    }
   ],
   "source": [
    "print(X_train.shape[0])\n",
    "print(y_train.shape[0])"
   ]
  },
  {
   "cell_type": "markdown",
   "id": "0beefa13",
   "metadata": {},
   "source": [
    "### MAPE для модели константы "
   ]
  },
  {
   "cell_type": "code",
   "execution_count": 63,
   "id": "7e43ae9a",
   "metadata": {},
   "outputs": [],
   "source": [
    "#модель, которая предсказывает все значения средней ценой.\n",
    "mean_value = y_train.median()\n",
    "\n",
    "series = pd.Series([mean_value] * (y_train.shape[0]))\n",
    "mape_base = mape(y_train, series)\n",
    "test_base = pd.Series([mean_value] * test['vin'].shape[0])\n",
    "base_res = pd.concat([test['vin'], test_base], axis=1)\n",
    "base_res.columns = ['vin', 'sellingprice']\n",
    "base_res.to_csv('avg_res.csv', index=False) # запись в файл"
   ]
  },
  {
   "cell_type": "code",
   "execution_count": 64,
   "id": "d02e4a1b",
   "metadata": {},
   "outputs": [
    {
     "data": {
      "text/plain": [
       "0.8801665047058332"
      ]
     },
     "execution_count": 64,
     "metadata": {},
     "output_type": "execute_result"
    }
   ],
   "source": [
    "mape_base"
   ]
  },
  {
   "cell_type": "code",
   "execution_count": 65,
   "id": "09eed88e",
   "metadata": {},
   "outputs": [
    {
     "name": "stderr",
     "output_type": "stream",
     "text": [
      "/Users/georgiismirnov/anaconda3/lib/python3.10/site-packages/IPython/core/interactiveshell.py:3460: RankWarning: Polyfit may be poorly conditioned\n",
      "  exec(code_obj, self.user_global_ns, self.user_ns)\n"
     ]
    },
    {
     "data": {
      "text/plain": [
       "[<matplotlib.lines.Line2D at 0x2ee3c82b0>]"
      ]
     },
     "execution_count": 65,
     "metadata": {},
     "output_type": "execute_result"
    },
    {
     "data": {
      "image/png": "[encoded data removed]",
      "text/plain": [
       "<Figure size 1000x500 with 1 Axes>"
      ]
     },
     "metadata": {},
     "output_type": "display_data"
    }
   ],
   "source": [
    "plt.figure(figsize=(10,5))\n",
    "plt.title('Avg_model', fontsize=14)\n",
    "plt.scatter(y=[mean_value] * y_train.shape[0], x=y_train)\n",
    "m, b = np.polyfit([mean_value] * (y_train.shape[0]), y_train, 1) # \n",
    "plt.plot(y_train, m*y_train+b, 'r-')"
   ]
  },
  {
   "cell_type": "markdown",
   "id": "84d8a3df",
   "metadata": {},
   "source": [
    "Сделаю таблицу с результатами на train и val"
   ]
  },
  {
   "cell_type": "code",
   "execution_count": 66,
   "id": "259d9b2f",
   "metadata": {},
   "outputs": [
    {
     "data": {
      "text/html": [
       "<div>\n",
       "<style scoped>\n",
       "    .dataframe tbody tr th:only-of-type {\n",
       "        vertical-align: middle;\n",
       "    }\n",
       "\n",
       "    .dataframe tbody tr th {\n",
       "        vertical-align: top;\n",
       "    }\n",
       "\n",
       "    .dataframe thead th {\n",
       "        text-align: right;\n",
       "    }\n",
       "</style>\n",
       "<table border=\"1\" class=\"dataframe\">\n",
       "  <thead>\n",
       "    <tr style=\"text-align: right;\">\n",
       "      <th></th>\n",
       "      <th>Model</th>\n",
       "      <th>train_mape</th>\n",
       "      <th>val_mape</th>\n",
       "    </tr>\n",
       "  </thead>\n",
       "  <tbody>\n",
       "  </tbody>\n",
       "</table>\n",
       "</div>"
      ],
      "text/plain": [
       "Empty DataFrame\n",
       "Columns: [Model, train_mape, val_mape]\n",
       "Index: []"
      ]
     },
     "execution_count": 66,
     "metadata": {},
     "output_type": "execute_result"
    }
   ],
   "source": [
    "total = []\n",
    "tab_total = pd.DataFrame(data=total, columns = ['Model', 'train_mape', 'val_mape'])\n",
    "tab_total"
   ]
  },
  {
   "cell_type": "code",
   "execution_count": 67,
   "id": "f0cbf766",
   "metadata": {},
   "outputs": [],
   "source": [
    "res = ['const', 0.88, '']\n",
    "tab_total.loc[len(tab_total.index)] = res"
   ]
  },
  {
   "cell_type": "code",
   "execution_count": 68,
   "id": "bf4948e1",
   "metadata": {},
   "outputs": [
    {
     "data": {
      "text/html": [
       "<div>\n",
       "<style scoped>\n",
       "    .dataframe tbody tr th:only-of-type {\n",
       "        vertical-align: middle;\n",
       "    }\n",
       "\n",
       "    .dataframe tbody tr th {\n",
       "        vertical-align: top;\n",
       "    }\n",
       "\n",
       "    .dataframe thead th {\n",
       "        text-align: right;\n",
       "    }\n",
       "</style>\n",
       "<table border=\"1\" class=\"dataframe\">\n",
       "  <thead>\n",
       "    <tr style=\"text-align: right;\">\n",
       "      <th></th>\n",
       "      <th>Model</th>\n",
       "      <th>train_mape</th>\n",
       "      <th>val_mape</th>\n",
       "    </tr>\n",
       "  </thead>\n",
       "  <tbody>\n",
       "    <tr>\n",
       "      <th>0</th>\n",
       "      <td>const</td>\n",
       "      <td>0.88</td>\n",
       "      <td></td>\n",
       "    </tr>\n",
       "  </tbody>\n",
       "</table>\n",
       "</div>"
      ],
      "text/plain": [
       "   Model  train_mape val_mape\n",
       "0  const        0.88         "
      ]
     },
     "execution_count": 68,
     "metadata": {},
     "output_type": "execute_result"
    }
   ],
   "source": [
    "tab_total"
   ]
  },
  {
   "cell_type": "markdown",
   "id": "34d12ace",
   "metadata": {},
   "source": [
    "## LinearRegression"
   ]
  },
  {
   "cell_type": "code",
   "execution_count": 69,
   "id": "a79c2f9b",
   "metadata": {},
   "outputs": [],
   "source": [
    "scoring = make_scorer(mape) #критерий оценки модели\n",
    "cv_par = 5 #параметр разбития выборки для кросс-валидации\n",
    "rs=1\n",
    "#X_train, y_train - для обучения\n",
    "#X_val, y_val - данные для оценки модели и выбора лучшей модели\n",
    "#X_test - тестовые данные\n",
    "X_train, X_val, y_train, y_val = train_test_split(X_train, y_train, train_size=0.7, random_state=rs)"
   ]
  },
  {
   "cell_type": "code",
   "execution_count": 86,
   "id": "2fe52e70",
   "metadata": {},
   "outputs": [
    {
     "name": "stdout",
     "output_type": "stream",
     "text": [
      "Время обучения и поиска оптимальных параметров:  0.19  минут\n",
      "Best Parameters:  {'regressor__n_jobs': 1}\n",
      "MAPE:  0.3804180148936961\n"
     ]
    }
   ],
   "source": [
    "start = time.time()\n",
    "pipeline = Pipeline([('regressor', LinearRegression())])\n",
    "param_grid = {'regressor__n_jobs': [1]}\n",
    "grid_search = GridSearchCV(pipeline, param_grid=param_grid, scoring=scoring, cv=cv_par)\n",
    "grid_search.fit(X_train, y_train)\n",
    "end = time.time()\n",
    "print(\"Время обучения и поиска оптимальных параметров: \", round((end-start)/60, 2), \" минут\")\n",
    "# Вывод наилучших параметров и значения MAPE\n",
    "print(\"Best Parameters: \", grid_search.best_params_)\n",
    "print(\"MAPE: \", grid_search.best_score_)"
   ]
  },
  {
   "cell_type": "code",
   "execution_count": 87,
   "id": "984503dd",
   "metadata": {},
   "outputs": [
    {
     "name": "stdout",
     "output_type": "stream",
     "text": [
      "MAPE на валидационной выборке:  96507238161720.58\n"
     ]
    }
   ],
   "source": [
    "y_pred = grid_search.predict(X_val)\n",
    "print(\"MAPE на валидационной выборке: \", mape(grid_search.predict(X_val), y_val))"
   ]
  },
  {
   "cell_type": "code",
   "execution_count": 88,
   "id": "dc695210",
   "metadata": {},
   "outputs": [
    {
     "data": {
      "image/png": "[encoded data removed]",
      "text/plain": [
       "<Figure size 1000x500 with 1 Axes>"
      ]
     },
     "metadata": {},
     "output_type": "display_data"
    }
   ],
   "source": [
    "plt.figure(figsize=(10,5))\n",
    "plt.title('LinearRegression', fontsize=14)\n",
    "plt.scatter(x=y_val, y=y_pred)\n",
    "m, b = np.polyfit(y_val, y_pred, 1)\n",
    "plt.plot(y_val, m*y_val+b, 'r')"
   ]
  },
  {
   "cell_type": "code",
   "execution_count": 89,
   "id": "3f488ab7",
   "metadata": {},
   "outputs": [],
   "source": [
    "y_test = pd.Series(grid_search.predict(X_test))\n",
    "LR_res = pd.concat([test['vin'], y_test], axis=1)\n",
    "LR_res.columns = ['vin', 'sellingprice']\n",
    "LR_res.to_csv('LR_res.csv', index=False)"
   ]
  },
  {
   "cell_type": "code",
   "execution_count": 70,
   "id": "8814b15c",
   "metadata": {},
   "outputs": [
    {
     "data": {
      "text/html": [
       "<div>\n",
       "<style scoped>\n",
       "    .dataframe tbody tr th:only-of-type {\n",
       "        vertical-align: middle;\n",
       "    }\n",
       "\n",
       "    .dataframe tbody tr th {\n",
       "        vertical-align: top;\n",
       "    }\n",
       "\n",
       "    .dataframe thead th {\n",
       "        text-align: right;\n",
       "    }\n",
       "</style>\n",
       "<table border=\"1\" class=\"dataframe\">\n",
       "  <thead>\n",
       "    <tr style=\"text-align: right;\">\n",
       "      <th></th>\n",
       "      <th>Model</th>\n",
       "      <th>train_mape</th>\n",
       "      <th>val_mape</th>\n",
       "    </tr>\n",
       "  </thead>\n",
       "  <tbody>\n",
       "    <tr>\n",
       "      <th>0</th>\n",
       "      <td>const</td>\n",
       "      <td>0.88</td>\n",
       "      <td></td>\n",
       "    </tr>\n",
       "    <tr>\n",
       "      <th>1</th>\n",
       "      <td>LinearRegression</td>\n",
       "      <td>0.39</td>\n",
       "      <td>~10^10</td>\n",
       "    </tr>\n",
       "  </tbody>\n",
       "</table>\n",
       "</div>"
      ],
      "text/plain": [
       "              Model  train_mape val_mape\n",
       "0             const        0.88         \n",
       "1  LinearRegression        0.39   ~10^10"
      ]
     },
     "execution_count": 70,
     "metadata": {},
     "output_type": "execute_result"
    }
   ],
   "source": [
    "res = ['LinearRegression', 0.39, '~10^10']\n",
    "tab_total.loc[len(tab_total.index)] = res\n",
    "tab_total"
   ]
  },
  {
   "cell_type": "markdown",
   "id": "4795a619",
   "metadata": {},
   "source": [
    "## DecisionTreeRegressor"
   ]
  },
  {
   "cell_type": "code",
   "execution_count": 67,
   "id": "7bfcf01a",
   "metadata": {},
   "outputs": [
    {
     "name": "stdout",
     "output_type": "stream",
     "text": [
      "Время обучения и поиска оптимальных параметров:  2.81  минут\n",
      "Best Parameters:  {'regressor__max_depth': 1, 'regressor__random_state': 1}\n",
      "MAPE: 0.62%\n"
     ]
    }
   ],
   "source": [
    "start = time.time()\n",
    "pipeline = Pipeline([\n",
    "    ('regressor', DecisionTreeRegressor())])\n",
    "param_grid = {'regressor__max_depth': range(1, 30, 2),\n",
    "             'regressor__random_state': [rs]}\n",
    "grid_search = GridSearchCV(pipeline, param_grid=param_grid, scoring=scoring, cv=cv_par)\n",
    "grid_search.fit(X_train, y_train)\n",
    "end = time.time()\n",
    "print(\"Время обучения и поиска оптимальных параметров: \", round((end-start)/60, 2), \" минут\")\n",
    "# Вывод наилучших параметров и значения MAPE\n",
    "print(\"Best Parameters: \", grid_search.best_params_)\n",
    "print(f\"MAPE: {grid_search.best_score_:.2f}%\")"
   ]
  },
  {
   "cell_type": "code",
   "execution_count": 68,
   "id": "d04ed27c",
   "metadata": {},
   "outputs": [
    {
     "name": "stdout",
     "output_type": "stream",
     "text": [
      "MAPE на валидационной выборке: 0.43%\n"
     ]
    }
   ],
   "source": [
    "y_pred = grid_search.predict(X_val)\n",
    "sc_mape=mape(grid_search.predict(X_val), y_val)\n",
    "print(f\"MAPE на валидационной выборке: {sc_mape:.2f}%\")"
   ]
  },
  {
   "cell_type": "code",
   "execution_count": 69,
   "id": "7625b8fc",
   "metadata": {},
   "outputs": [
    {
     "data": {
      "image/png": "[encoded data removed]",
      "text/plain": [
       "<Figure size 1000x500 with 1 Axes>"
      ]
     },
     "metadata": {},
     "output_type": "display_data"
    }
   ],
   "source": [
    "plt.figure(figsize=(10, 5))\n",
    "plt.title('DTRegressor', fontsize=14)\n",
    "plt.scatter(x=y_val, y=y_pred)\n",
    "m, b = np.polyfit(y_val, y_pred, 1)\n",
    "plt.plot(y_val, m*y_val+b, 'r')"
   ]
  },
  {
   "cell_type": "markdown",
   "id": "1157aa78",
   "metadata": {},
   "source": [
    "модель переобучена - предсказывает цену выбирая из 2х значений."
   ]
  },
  {
   "cell_type": "code",
   "execution_count": 70,
   "id": "6b0e6a56",
   "metadata": {},
   "outputs": [],
   "source": [
    "y_test = pd.Series(grid_search.predict(X_test))\n",
    "DTR_res = pd.concat([test['vin'], y_test], axis=1)\n",
    "DTR_res.columns = ['vin', 'sellingprice']\n",
    "DTR_res.to_csv('DTR_res.csv', index=False)"
   ]
  },
  {
   "cell_type": "code",
   "execution_count": 71,
   "id": "6ca671e3",
   "metadata": {},
   "outputs": [
    {
     "data": {
      "text/html": [
       "<div>\n",
       "<style scoped>\n",
       "    .dataframe tbody tr th:only-of-type {\n",
       "        vertical-align: middle;\n",
       "    }\n",
       "\n",
       "    .dataframe tbody tr th {\n",
       "        vertical-align: top;\n",
       "    }\n",
       "\n",
       "    .dataframe thead th {\n",
       "        text-align: right;\n",
       "    }\n",
       "</style>\n",
       "<table border=\"1\" class=\"dataframe\">\n",
       "  <thead>\n",
       "    <tr style=\"text-align: right;\">\n",
       "      <th></th>\n",
       "      <th>Model</th>\n",
       "      <th>train_mape</th>\n",
       "      <th>val_mape</th>\n",
       "    </tr>\n",
       "  </thead>\n",
       "  <tbody>\n",
       "    <tr>\n",
       "      <th>0</th>\n",
       "      <td>const</td>\n",
       "      <td>0.88</td>\n",
       "      <td></td>\n",
       "    </tr>\n",
       "    <tr>\n",
       "      <th>1</th>\n",
       "      <td>LinearRegression</td>\n",
       "      <td>0.39</td>\n",
       "      <td>~10^10</td>\n",
       "    </tr>\n",
       "    <tr>\n",
       "      <th>2</th>\n",
       "      <td>DecisionTreeRegressor</td>\n",
       "      <td>0.62</td>\n",
       "      <td>0.43</td>\n",
       "    </tr>\n",
       "  </tbody>\n",
       "</table>\n",
       "</div>"
      ],
      "text/plain": [
       "                   Model  train_mape val_mape\n",
       "0                  const        0.88         \n",
       "1       LinearRegression        0.39   ~10^10\n",
       "2  DecisionTreeRegressor        0.62     0.43"
      ]
     },
     "execution_count": 71,
     "metadata": {},
     "output_type": "execute_result"
    }
   ],
   "source": [
    "res = ['DecisionTreeRegressor', 0.62, 0.43]\n",
    "tab_total.loc[len(tab_total.index)] = res\n",
    "tab_total"
   ]
  },
  {
   "cell_type": "markdown",
   "id": "30d9e9ed",
   "metadata": {},
   "source": [
    "## MLPRegressor"
   ]
  },
  {
   "cell_type": "code",
   "execution_count": 71,
   "id": "a6663333",
   "metadata": {},
   "outputs": [],
   "source": [
    "import warnings\n",
    "warnings.simplefilter(action='ignore')"
   ]
  },
  {
   "cell_type": "code",
   "execution_count": 72,
   "id": "6821743f",
   "metadata": {},
   "outputs": [
    {
     "name": "stdout",
     "output_type": "stream",
     "text": [
      "Время обучения и поиска оптимальных параметров:  6.31  минут\n",
      "Best Parameters:  {'regressor__alpha': 0.01, 'regressor__hidden_layer_sizes': (50,), 'regressor__max_iter': 1, 'regressor__random_state': 1}\n",
      "MAPE: 0.88%\n"
     ]
    }
   ],
   "source": [
    "start = time.time()\n",
    "pipeline = Pipeline([\n",
    "    ('regressor', MLPRegressor())\n",
    "])\n",
    "param_grid = {'regressor__hidden_layer_sizes': [(50,), (150,)],\n",
    "              'regressor__alpha': [0.01, 0.005],\n",
    "             'regressor__random_state':[rs], \n",
    "              'regressor__max_iter':range(1, 10, 3)}\n",
    "grid_search = GridSearchCV(pipeline, param_grid=param_grid, scoring=scoring, cv=5)\n",
    "grid_search.fit(X_train, y_train)\n",
    "end = time.time()\n",
    "print(\"Время обучения и поиска оптимальных параметров: \", round((end-start)/60, 2), \" минут\")\n",
    "# Вывод наилучших параметров и значения MAPE\n",
    "print(\"Best Parameters: \", grid_search.best_params_)\n",
    "print(f\"MAPE: {grid_search.best_score_:.2f}%\")"
   ]
  },
  {
   "cell_type": "code",
   "execution_count": 73,
   "id": "a48cc758",
   "metadata": {},
   "outputs": [
    {
     "name": "stdout",
     "output_type": "stream",
     "text": [
      "MAPE на валидационной выборке: 8.10%\n"
     ]
    }
   ],
   "source": [
    "y_pred = grid_search.predict(X_val)\n",
    "sc_mape=mape(grid_search.predict(X_val), y_val)\n",
    "print(f\"MAPE на валидационной выборке: {sc_mape:.2f}%\")"
   ]
  },
  {
   "cell_type": "code",
   "execution_count": 74,
   "id": "c23093d1",
   "metadata": {},
   "outputs": [
    {
     "data": {
      "image/png": "[encoded data removed]",
      "text/plain": [
       "<Figure size 1000x500 with 1 Axes>"
      ]
     },
     "metadata": {},
     "output_type": "display_data"
    }
   ],
   "source": [
    "plt.figure(figsize=(10, 5))\n",
    "plt.title('MLPREgressor', fontsize=14)\n",
    "plt.scatter(x=y_val, y=y_pred)\n",
    "m, b = np.polyfit(y_val, y_pred, 1)\n",
    "plt.plot(y_val, m*y_val+b, 'r')"
   ]
  },
  {
   "cell_type": "markdown",
   "id": "1574e33a",
   "metadata": {},
   "source": [
    "Отклонение от прямой значительно выше, чем у DTRegressor."
   ]
  },
  {
   "cell_type": "code",
   "execution_count": 75,
   "id": "8cee65ea",
   "metadata": {},
   "outputs": [],
   "source": [
    "y_test = pd.Series(grid_search.predict(X_test))\n",
    "MLPR_res = pd.concat([test['vin'], y_test], axis=1)\n",
    "MLPR_res.columns = ['vin', 'sellingprice']\n",
    "MLPR_res.to_csv('MLPR_res.csv', index=False)"
   ]
  },
  {
   "cell_type": "code",
   "execution_count": 72,
   "id": "3b754ff0",
   "metadata": {},
   "outputs": [
    {
     "data": {
      "text/html": [
       "<div>\n",
       "<style scoped>\n",
       "    .dataframe tbody tr th:only-of-type {\n",
       "        vertical-align: middle;\n",
       "    }\n",
       "\n",
       "    .dataframe tbody tr th {\n",
       "        vertical-align: top;\n",
       "    }\n",
       "\n",
       "    .dataframe thead th {\n",
       "        text-align: right;\n",
       "    }\n",
       "</style>\n",
       "<table border=\"1\" class=\"dataframe\">\n",
       "  <thead>\n",
       "    <tr style=\"text-align: right;\">\n",
       "      <th></th>\n",
       "      <th>Model</th>\n",
       "      <th>train_mape</th>\n",
       "      <th>val_mape</th>\n",
       "    </tr>\n",
       "  </thead>\n",
       "  <tbody>\n",
       "    <tr>\n",
       "      <th>0</th>\n",
       "      <td>const</td>\n",
       "      <td>0.88</td>\n",
       "      <td></td>\n",
       "    </tr>\n",
       "    <tr>\n",
       "      <th>1</th>\n",
       "      <td>LinearRegression</td>\n",
       "      <td>0.39</td>\n",
       "      <td>~10^10</td>\n",
       "    </tr>\n",
       "    <tr>\n",
       "      <th>2</th>\n",
       "      <td>DecisionTreeRegressor</td>\n",
       "      <td>0.62</td>\n",
       "      <td>0.43</td>\n",
       "    </tr>\n",
       "    <tr>\n",
       "      <th>3</th>\n",
       "      <td>MLPRegressor</td>\n",
       "      <td>0.88</td>\n",
       "      <td>8.1</td>\n",
       "    </tr>\n",
       "  </tbody>\n",
       "</table>\n",
       "</div>"
      ],
      "text/plain": [
       "                   Model  train_mape val_mape\n",
       "0                  const        0.88         \n",
       "1       LinearRegression        0.39   ~10^10\n",
       "2  DecisionTreeRegressor        0.62     0.43\n",
       "3           MLPRegressor        0.88      8.1"
      ]
     },
     "execution_count": 72,
     "metadata": {},
     "output_type": "execute_result"
    }
   ],
   "source": [
    "res = ['MLPRegressor', 0.88, 8.1]\n",
    "tab_total.loc[len(tab_total.index)] = res\n",
    "tab_total"
   ]
  },
  {
   "cell_type": "markdown",
   "id": "c995c3cc",
   "metadata": {},
   "source": [
    "## RandomForestRegressor"
   ]
  },
  {
   "cell_type": "code",
   "execution_count": 115,
   "id": "a717ce99",
   "metadata": {},
   "outputs": [
    {
     "name": "stdout",
     "output_type": "stream",
     "text": [
      "Время обучения и поиска оптимальных параметров:  58.2  минут\n",
      "Best Parameters:  {'regressor__max_depth': 20, 'regressor__max_features': 1000, 'regressor__n_estimators': 75, 'regressor__n_jobs': -1, 'regressor__random_state': 1}\n",
      "MAPE: 0.16%\n"
     ]
    }
   ],
   "source": [
    "start = time.time()\n",
    "pipeline = Pipeline([\n",
    "    ('regressor', RandomForestRegressor())\n",
    "])\n",
    "param_grid = {'regressor__n_estimators': [75, 100, 200],\n",
    "              'regressor__max_features': [1000],\n",
    "              'regressor__max_depth': [20, 25],\n",
    "              'regressor__random_state':[rs], \n",
    "              'regressor__n_jobs':[-1]\n",
    "             }\n",
    "grid_search = GridSearchCV(pipeline, param_grid=param_grid, scoring=scoring, cv=5)\n",
    "grid_search.fit(X_train, y_train)\n",
    "end = time.time()\n",
    "print(\"Время обучения и поиска оптимальных параметров: \", round((end-start)/60, 2), \" минут\")\n",
    "# Вывод наилучших параметров и значения MAPE\n",
    "print(\"Best Parameters: \", grid_search.best_params_)\n",
    "print(f\"MAPE: {grid_search.best_score_:.2f}%\")"
   ]
  },
  {
   "cell_type": "code",
   "execution_count": 116,
   "id": "91b18d95",
   "metadata": {},
   "outputs": [
    {
     "name": "stdout",
     "output_type": "stream",
     "text": [
      "MAPE на валидационной выборке: 0.14%\n"
     ]
    }
   ],
   "source": [
    "y_pred = grid_search.predict(X_val)\n",
    "sc_mape=mape(grid_search.predict(X_val), y_val)\n",
    "print(f\"MAPE на валидационной выборке: {sc_mape:.2f}%\")"
   ]
  },
  {
   "cell_type": "code",
   "execution_count": 117,
   "id": "168231db",
   "metadata": {},
   "outputs": [
    {
     "data": {
      "image/png": "[encoded data removed]",
      "text/plain": [
       "<Figure size 1000x500 with 1 Axes>"
      ]
     },
     "metadata": {},
     "output_type": "display_data"
    }
   ],
   "source": [
    "plt.figure(figsize=(10, 5))\n",
    "plt.title('RFRegressor', fontsize=14)\n",
    "plt.scatter(x=y_val, y=y_pred)\n",
    "m, b = np.polyfit(y_val, y_pred, 1)\n",
    "plt.plot(y_val, m*y_val+b, 'r');"
   ]
  },
  {
   "cell_type": "code",
   "execution_count": 118,
   "id": "fe2b1181",
   "metadata": {},
   "outputs": [],
   "source": [
    "y_test = pd.Series(grid_search.predict(X_test))\n",
    "RFR_res = pd.concat([test['vin'], y_test], axis=1)\n",
    "RFR_res.columns = ['vin', 'sellingprice']\n",
    "RFR_res.to_csv('RFR_res.csv', index=False)"
   ]
  },
  {
   "cell_type": "code",
   "execution_count": 73,
   "id": "9aa72d72",
   "metadata": {},
   "outputs": [
    {
     "data": {
      "text/html": [
       "<div>\n",
       "<style scoped>\n",
       "    .dataframe tbody tr th:only-of-type {\n",
       "        vertical-align: middle;\n",
       "    }\n",
       "\n",
       "    .dataframe tbody tr th {\n",
       "        vertical-align: top;\n",
       "    }\n",
       "\n",
       "    .dataframe thead th {\n",
       "        text-align: right;\n",
       "    }\n",
       "</style>\n",
       "<table border=\"1\" class=\"dataframe\">\n",
       "  <thead>\n",
       "    <tr style=\"text-align: right;\">\n",
       "      <th></th>\n",
       "      <th>Model</th>\n",
       "      <th>train_mape</th>\n",
       "      <th>val_mape</th>\n",
       "    </tr>\n",
       "  </thead>\n",
       "  <tbody>\n",
       "    <tr>\n",
       "      <th>0</th>\n",
       "      <td>const</td>\n",
       "      <td>0.88</td>\n",
       "      <td></td>\n",
       "    </tr>\n",
       "    <tr>\n",
       "      <th>1</th>\n",
       "      <td>LinearRegression</td>\n",
       "      <td>0.39</td>\n",
       "      <td>~10^10</td>\n",
       "    </tr>\n",
       "    <tr>\n",
       "      <th>2</th>\n",
       "      <td>DecisionTreeRegressor</td>\n",
       "      <td>0.62</td>\n",
       "      <td>0.43</td>\n",
       "    </tr>\n",
       "    <tr>\n",
       "      <th>3</th>\n",
       "      <td>MLPRegressor</td>\n",
       "      <td>0.88</td>\n",
       "      <td>8.1</td>\n",
       "    </tr>\n",
       "    <tr>\n",
       "      <th>4</th>\n",
       "      <td>RandomForest</td>\n",
       "      <td>0.16</td>\n",
       "      <td>0.14</td>\n",
       "    </tr>\n",
       "  </tbody>\n",
       "</table>\n",
       "</div>"
      ],
      "text/plain": [
       "                   Model  train_mape val_mape\n",
       "0                  const        0.88         \n",
       "1       LinearRegression        0.39   ~10^10\n",
       "2  DecisionTreeRegressor        0.62     0.43\n",
       "3           MLPRegressor        0.88      8.1\n",
       "4           RandomForest        0.16     0.14"
      ]
     },
     "execution_count": 73,
     "metadata": {},
     "output_type": "execute_result"
    }
   ],
   "source": [
    "res = ['RandomForest', 0.16, 0.14]\n",
    "tab_total.loc[len(tab_total.index)] = res\n",
    "tab_total"
   ]
  },
  {
   "cell_type": "markdown",
   "id": "889cdd92",
   "metadata": {},
   "source": [
    "## GradientBoostingRegressor"
   ]
  },
  {
   "cell_type": "code",
   "execution_count": 123,
   "id": "58cf3e83",
   "metadata": {},
   "outputs": [
    {
     "name": "stdout",
     "output_type": "stream",
     "text": [
      "Время обучения и поиска оптимальных параметров:  9.44  минут\n",
      "Best Parameters:  {'regressor__learning_rate': 0.1, 'regressor__loss': 'absolute_error', 'regressor__n_estimators': 200, 'regressor__random_state': 1}\n",
      "MAPE: 0.23%\n"
     ]
    }
   ],
   "source": [
    "start = time.time()\n",
    "pipeline = Pipeline([\n",
    "    ('regressor', GradientBoostingRegressor())\n",
    "])\n",
    "param_grid = {'regressor__learning_rate': [0.1],\n",
    "              'regressor__n_estimators': [200],\n",
    "              'regressor__random_state':[rs], \n",
    "              'regressor__loss': [\"absolute_error\"]\n",
    "             }\n",
    "grid_search = GridSearchCV(pipeline, param_grid=param_grid, scoring=scoring, cv=5)\n",
    "grid_search.fit(X_train, y_train)\n",
    "end = time.time()\n",
    "print(\"Время обучения и поиска оптимальных параметров: \", round((end-start)/60, 2), \" минут\")\n",
    "# Вывод наилучших параметров и значения MAPE\n",
    "print(\"Best Parameters: \", grid_search.best_params_)\n",
    "print(f\"MAPE: {grid_search.best_score_:.2f}%\")"
   ]
  },
  {
   "cell_type": "code",
   "execution_count": 124,
   "id": "f9f5d82e",
   "metadata": {},
   "outputs": [
    {
     "name": "stdout",
     "output_type": "stream",
     "text": [
      "MAPE на валидационной выборке: 0.23%\n"
     ]
    }
   ],
   "source": [
    "y_pred = grid_search.predict(X_val)\n",
    "sc_mape=mape(grid_search.predict(X_val), y_val)\n",
    "print(f\"MAPE на валидационной выборке: {sc_mape:.2f}%\")"
   ]
  },
  {
   "cell_type": "code",
   "execution_count": 125,
   "id": "13b241ce",
   "metadata": {},
   "outputs": [
    {
     "data": {
      "text/plain": [
       "[<matplotlib.lines.Line2D at 0x2e1ecb640>]"
      ]
     },
     "execution_count": 125,
     "metadata": {},
     "output_type": "execute_result"
    },
    {
     "data": {
      "image/png": "[encoded data removed]",
      "text/plain": [
       "<Figure size 1000x500 with 1 Axes>"
      ]
     },
     "metadata": {},
     "output_type": "display_data"
    }
   ],
   "source": [
    "plt.figure(figsize=(10, 5))\n",
    "plt.title('GBRegressor', fontsize=14)\n",
    "plt.scatter(x=y_val, y=y_pred)\n",
    "m, b = np.polyfit(y_val, y_pred, 1)\n",
    "plt.plot(y_val, m*y_val+b, 'r')"
   ]
  },
  {
   "cell_type": "code",
   "execution_count": 126,
   "id": "fa32cbba",
   "metadata": {},
   "outputs": [],
   "source": [
    "y_test = pd.Series(grid_search.predict(X_test))\n",
    "GBR_res = pd.concat([test['vin'], y_test], axis=1)\n",
    "GBR_res.columns = ['vin', 'sellingprice']\n",
    "GBR_res.to_csv('GBR_res.csv', index=False)"
   ]
  },
  {
   "cell_type": "code",
   "execution_count": 74,
   "id": "b7bb19b7",
   "metadata": {},
   "outputs": [
    {
     "data": {
      "text/html": [
       "<div>\n",
       "<style scoped>\n",
       "    .dataframe tbody tr th:only-of-type {\n",
       "        vertical-align: middle;\n",
       "    }\n",
       "\n",
       "    .dataframe tbody tr th {\n",
       "        vertical-align: top;\n",
       "    }\n",
       "\n",
       "    .dataframe thead th {\n",
       "        text-align: right;\n",
       "    }\n",
       "</style>\n",
       "<table border=\"1\" class=\"dataframe\">\n",
       "  <thead>\n",
       "    <tr style=\"text-align: right;\">\n",
       "      <th></th>\n",
       "      <th>Model</th>\n",
       "      <th>train_mape</th>\n",
       "      <th>val_mape</th>\n",
       "    </tr>\n",
       "  </thead>\n",
       "  <tbody>\n",
       "    <tr>\n",
       "      <th>0</th>\n",
       "      <td>const</td>\n",
       "      <td>0.88</td>\n",
       "      <td></td>\n",
       "    </tr>\n",
       "    <tr>\n",
       "      <th>1</th>\n",
       "      <td>LinearRegression</td>\n",
       "      <td>0.39</td>\n",
       "      <td>~10^10</td>\n",
       "    </tr>\n",
       "    <tr>\n",
       "      <th>2</th>\n",
       "      <td>DecisionTreeRegressor</td>\n",
       "      <td>0.62</td>\n",
       "      <td>0.43</td>\n",
       "    </tr>\n",
       "    <tr>\n",
       "      <th>3</th>\n",
       "      <td>MLPRegressor</td>\n",
       "      <td>0.88</td>\n",
       "      <td>8.1</td>\n",
       "    </tr>\n",
       "    <tr>\n",
       "      <th>4</th>\n",
       "      <td>RandomForest</td>\n",
       "      <td>0.16</td>\n",
       "      <td>0.14</td>\n",
       "    </tr>\n",
       "    <tr>\n",
       "      <th>5</th>\n",
       "      <td>GradientBoostingRegressor</td>\n",
       "      <td>0.23</td>\n",
       "      <td>0.23</td>\n",
       "    </tr>\n",
       "  </tbody>\n",
       "</table>\n",
       "</div>"
      ],
      "text/plain": [
       "                       Model  train_mape val_mape\n",
       "0                      const        0.88         \n",
       "1           LinearRegression        0.39   ~10^10\n",
       "2      DecisionTreeRegressor        0.62     0.43\n",
       "3               MLPRegressor        0.88      8.1\n",
       "4               RandomForest        0.16     0.14\n",
       "5  GradientBoostingRegressor        0.23     0.23"
      ]
     },
     "execution_count": 74,
     "metadata": {},
     "output_type": "execute_result"
    }
   ],
   "source": [
    "res = ['GradientBoostingRegressor', 0.23, 0.23]\n",
    "tab_total.loc[len(tab_total.index)] = res\n",
    "tab_total"
   ]
  },
  {
   "cell_type": "markdown",
   "id": "cda89c74",
   "metadata": {},
   "source": [
    "## Light GBM Regressor"
   ]
  },
  {
   "cell_type": "code",
   "execution_count": 204,
   "id": "bb3d8589",
   "metadata": {},
   "outputs": [
    {
     "name": "stdout",
     "output_type": "stream",
     "text": [
      "Время обучения и поиска оптимальных параметров:  2.03  минут\n",
      "Best Parameters:  {'regressor__learning_rate': 0.05, 'regressor__n_estimators': 100, 'regressor__num_leaves': 120, 'regressor__random_state': 1}\n",
      "MAPE: 0.18%\n"
     ]
    }
   ],
   "source": [
    "start = time.time()\n",
    "pipeline = Pipeline([\n",
    "    ('regressor', LGBMRegressor())\n",
    "])\n",
    "param_grid = {'regressor__learning_rate': [0.1, 0.05],\n",
    "              'regressor__n_estimators': [100, 250],\n",
    "              'regressor__random_state':[rs], \n",
    "              'regressor__num_leaves':[120, 180]\n",
    "             }\n",
    "grid_search = GridSearchCV(pipeline, param_grid=param_grid, scoring=scoring, cv=5)\n",
    "grid_search.fit(X_train, y_train)\n",
    "end = time.time()\n",
    "print(\"Время обучения и поиска оптимальных параметров: \", round((end-start)/60, 2), \" минут\")\n",
    "# Вывод наилучших параметров и значения MAPE\n",
    "print(\"Best Parameters: \", grid_search.best_params_)\n",
    "print(f\"MAPE: {grid_search.best_score_:.2f}%\")"
   ]
  },
  {
   "cell_type": "code",
   "execution_count": 205,
   "id": "0d168e07",
   "metadata": {},
   "outputs": [
    {
     "name": "stdout",
     "output_type": "stream",
     "text": [
      "MAPE на валидационной выборке: 0.15%\n"
     ]
    }
   ],
   "source": [
    "y_pred = grid_search.predict(X_val)\n",
    "sc_mape=mape(grid_search.predict(X_val), y_val)\n",
    "print(f\"MAPE на валидационной выборке: {sc_mape:.2f}%\")"
   ]
  },
  {
   "cell_type": "code",
   "execution_count": 206,
   "id": "be336080",
   "metadata": {},
   "outputs": [
    {
     "data": {
      "text/plain": [
       "[<matplotlib.lines.Line2D at 0x34d1c1060>]"
      ]
     },
     "execution_count": 206,
     "metadata": {},
     "output_type": "execute_result"
    },
    {
     "data": {
      "image/png": "[encoded data removed]",
      "text/plain": [
       "<Figure size 1000x500 with 1 Axes>"
      ]
     },
     "metadata": {},
     "output_type": "display_data"
    }
   ],
   "source": [
    "plt.figure(figsize=(10, 5))\n",
    "plt.title('LGBMRegressor', fontsize=14)\n",
    "plt.scatter(x=y_val, y=y_pred)\n",
    "m, b = np.polyfit(y_val, y_pred, 1)\n",
    "plt.plot(y_val, m*y_val+b, 'r')"
   ]
  },
  {
   "cell_type": "code",
   "execution_count": 207,
   "id": "84f316cb",
   "metadata": {},
   "outputs": [],
   "source": [
    "y_test = pd.Series(grid_search.predict(X_test))\n",
    "LGBMR_res = pd.concat([test['vin'], y_test], axis=1)\n",
    "LGBMR_res.columns = ['vin', 'sellingprice']\n",
    "LGBMR_res.to_csv('LGBMR_res.csv', index=False)"
   ]
  },
  {
   "cell_type": "code",
   "execution_count": 75,
   "id": "88cd8df1",
   "metadata": {},
   "outputs": [
    {
     "data": {
      "text/html": [
       "<div>\n",
       "<style scoped>\n",
       "    .dataframe tbody tr th:only-of-type {\n",
       "        vertical-align: middle;\n",
       "    }\n",
       "\n",
       "    .dataframe tbody tr th {\n",
       "        vertical-align: top;\n",
       "    }\n",
       "\n",
       "    .dataframe thead th {\n",
       "        text-align: right;\n",
       "    }\n",
       "</style>\n",
       "<table border=\"1\" class=\"dataframe\">\n",
       "  <thead>\n",
       "    <tr style=\"text-align: right;\">\n",
       "      <th></th>\n",
       "      <th>Model</th>\n",
       "      <th>train_mape</th>\n",
       "      <th>val_mape</th>\n",
       "    </tr>\n",
       "  </thead>\n",
       "  <tbody>\n",
       "    <tr>\n",
       "      <th>0</th>\n",
       "      <td>const</td>\n",
       "      <td>0.88</td>\n",
       "      <td></td>\n",
       "    </tr>\n",
       "    <tr>\n",
       "      <th>1</th>\n",
       "      <td>LinearRegression</td>\n",
       "      <td>0.39</td>\n",
       "      <td>~10^10</td>\n",
       "    </tr>\n",
       "    <tr>\n",
       "      <th>2</th>\n",
       "      <td>DecisionTreeRegressor</td>\n",
       "      <td>0.62</td>\n",
       "      <td>0.43</td>\n",
       "    </tr>\n",
       "    <tr>\n",
       "      <th>3</th>\n",
       "      <td>MLPRegressor</td>\n",
       "      <td>0.88</td>\n",
       "      <td>8.1</td>\n",
       "    </tr>\n",
       "    <tr>\n",
       "      <th>4</th>\n",
       "      <td>RandomForest</td>\n",
       "      <td>0.16</td>\n",
       "      <td>0.14</td>\n",
       "    </tr>\n",
       "    <tr>\n",
       "      <th>5</th>\n",
       "      <td>GradientBoostingRegressor</td>\n",
       "      <td>0.23</td>\n",
       "      <td>0.23</td>\n",
       "    </tr>\n",
       "    <tr>\n",
       "      <th>6</th>\n",
       "      <td>Light GBM Regressor</td>\n",
       "      <td>0.18</td>\n",
       "      <td>0.15</td>\n",
       "    </tr>\n",
       "  </tbody>\n",
       "</table>\n",
       "</div>"
      ],
      "text/plain": [
       "                       Model  train_mape val_mape\n",
       "0                      const        0.88         \n",
       "1           LinearRegression        0.39   ~10^10\n",
       "2      DecisionTreeRegressor        0.62     0.43\n",
       "3               MLPRegressor        0.88      8.1\n",
       "4               RandomForest        0.16     0.14\n",
       "5  GradientBoostingRegressor        0.23     0.23\n",
       "6        Light GBM Regressor        0.18     0.15"
      ]
     },
     "execution_count": 75,
     "metadata": {},
     "output_type": "execute_result"
    }
   ],
   "source": [
    "res = ['Light GBM Regressor', 0.18, 0.15]\n",
    "tab_total.loc[len(tab_total.index)] = res\n",
    "tab_total"
   ]
  },
  {
   "cell_type": "markdown",
   "id": "536d08ec",
   "metadata": {},
   "source": [
    "## Light GBM Regressor (catigoricals)"
   ]
  },
  {
   "cell_type": "markdown",
   "id": "293f814e",
   "metadata": {},
   "source": [
    "Light GBM Regressor - может кодировать категориальные признаки, поэтому вернусь к данным до кодировки категориальных признаков и разобью их на train и valid - выборки. Требуется изменение категориальных типов столбцов на тип «категория» необработанных данных."
   ]
  },
  {
   "cell_type": "code",
   "execution_count": 63,
   "id": "b822a199",
   "metadata": {},
   "outputs": [],
   "source": [
    "for col in X_train_lgbm.columns:\n",
    "    X_train_lgbm[col] = X_train_lgbm[col].astype('category')\n",
    "    X_test_lgbm[col] = X_test_lgbm[col].astype('category')"
   ]
  },
  {
   "cell_type": "code",
   "execution_count": 64,
   "id": "f7e9812d",
   "metadata": {},
   "outputs": [],
   "source": [
    "X_train_cat, X_val_cat, y_train_cat, y_val_cat = train_test_split(X_train_lgbm, y_train_lgbm, train_size=0.7, random_state=rs)"
   ]
  },
  {
   "cell_type": "code",
   "execution_count": 65,
   "id": "e0919814",
   "metadata": {},
   "outputs": [
    {
     "name": "stdout",
     "output_type": "stream",
     "text": [
      "Время обучения и поиска оптимальных параметров:  1.41  минут\n",
      "Best Parameters:  {'regressor__learning_rate': 0.05, 'regressor__n_estimators': 50, 'regressor__num_leaves': 70, 'regressor__random_state': 1}\n",
      "MAPE: 0.38%\n"
     ]
    }
   ],
   "source": [
    "start = time.time()\n",
    "pipeline = Pipeline([\n",
    "    ('regressor', LGBMRegressor())\n",
    "])\n",
    "param_grid = {'regressor__learning_rate': [0.1, 0.05],\n",
    "              'regressor__n_estimators': [50, 100],\n",
    "              'regressor__random_state':[rs], \n",
    "              'regressor__num_leaves':[70, 120]\n",
    "             }\n",
    "grid_search = GridSearchCV(pipeline, param_grid=param_grid, scoring=scoring, cv=5)\n",
    "grid_search.fit(X_train_cat, y_train_cat)\n",
    "end = time.time()\n",
    "print(\"Время обучения и поиска оптимальных параметров: \", round((end-start)/60, 2), \" минут\")\n",
    "# Вывод наилучших параметров и значения MAPE\n",
    "print(\"Best Parameters: \", grid_search.best_params_)\n",
    "print(f\"MAPE: {grid_search.best_score_:.2f}%\")"
   ]
  },
  {
   "cell_type": "code",
   "execution_count": 66,
   "id": "6a33a8b3",
   "metadata": {},
   "outputs": [
    {
     "name": "stdout",
     "output_type": "stream",
     "text": [
      "MAPE на валидационной выборке: 0.18%\n"
     ]
    }
   ],
   "source": [
    "y_pred_cat = grid_search.predict(X_val_cat)\n",
    "sc_mape=mape(grid_search.predict(X_val_cat), y_val_cat)\n",
    "print(f\"MAPE на валидационной выборке: {sc_mape:.2f}%\")"
   ]
  },
  {
   "cell_type": "code",
   "execution_count": 67,
   "id": "ef9ef401",
   "metadata": {},
   "outputs": [
    {
     "data": {
      "text/plain": [
       "[<matplotlib.lines.Line2D at 0x30a80e560>]"
      ]
     },
     "execution_count": 67,
     "metadata": {},
     "output_type": "execute_result"
    },
    {
     "data": {
      "image/png": "[encoded data removed]",
      "text/plain": [
       "<Figure size 1000x500 with 1 Axes>"
      ]
     },
     "metadata": {},
     "output_type": "display_data"
    }
   ],
   "source": [
    "plt.figure(figsize=(10, 5))\n",
    "plt.title('LGBMRegressor (сat)', fontsize=14)\n",
    "plt.scatter(x=y_val_cat, y=y_pred_cat)\n",
    "m, b = np.polyfit(y_val_cat, y_pred_cat, 1)\n",
    "plt.plot(y_val_cat, m*y_val_cat+b, 'r')"
   ]
  },
  {
   "cell_type": "code",
   "execution_count": 68,
   "id": "eb61ff20",
   "metadata": {},
   "outputs": [],
   "source": [
    "y_test = pd.Series(grid_search.predict(X_test_lgbm))\n",
    "LGBMR_cat_res = pd.concat([test['vin'], y_test], axis=1)\n",
    "LGBMR_cat_res.columns = ['vin', 'sellingprice']\n",
    "LGBMR_cat_res.to_csv('LGBMR_res_cat.csv', index=False)"
   ]
  },
  {
   "cell_type": "code",
   "execution_count": 76,
   "id": "2c901eab",
   "metadata": {},
   "outputs": [
    {
     "data": {
      "text/html": [
       "<div>\n",
       "<style scoped>\n",
       "    .dataframe tbody tr th:only-of-type {\n",
       "        vertical-align: middle;\n",
       "    }\n",
       "\n",
       "    .dataframe tbody tr th {\n",
       "        vertical-align: top;\n",
       "    }\n",
       "\n",
       "    .dataframe thead th {\n",
       "        text-align: right;\n",
       "    }\n",
       "</style>\n",
       "<table border=\"1\" class=\"dataframe\">\n",
       "  <thead>\n",
       "    <tr style=\"text-align: right;\">\n",
       "      <th></th>\n",
       "      <th>Model</th>\n",
       "      <th>train_mape</th>\n",
       "      <th>val_mape</th>\n",
       "    </tr>\n",
       "  </thead>\n",
       "  <tbody>\n",
       "    <tr>\n",
       "      <th>0</th>\n",
       "      <td>const</td>\n",
       "      <td>0.88</td>\n",
       "      <td></td>\n",
       "    </tr>\n",
       "    <tr>\n",
       "      <th>1</th>\n",
       "      <td>LinearRegression</td>\n",
       "      <td>0.39</td>\n",
       "      <td>~10^10</td>\n",
       "    </tr>\n",
       "    <tr>\n",
       "      <th>2</th>\n",
       "      <td>DecisionTreeRegressor</td>\n",
       "      <td>0.62</td>\n",
       "      <td>0.43</td>\n",
       "    </tr>\n",
       "    <tr>\n",
       "      <th>3</th>\n",
       "      <td>MLPRegressor</td>\n",
       "      <td>0.88</td>\n",
       "      <td>8.1</td>\n",
       "    </tr>\n",
       "    <tr>\n",
       "      <th>4</th>\n",
       "      <td>RandomForest</td>\n",
       "      <td>0.16</td>\n",
       "      <td>0.14</td>\n",
       "    </tr>\n",
       "    <tr>\n",
       "      <th>5</th>\n",
       "      <td>GradientBoostingRegressor</td>\n",
       "      <td>0.23</td>\n",
       "      <td>0.23</td>\n",
       "    </tr>\n",
       "    <tr>\n",
       "      <th>6</th>\n",
       "      <td>Light GBM Regressor</td>\n",
       "      <td>0.18</td>\n",
       "      <td>0.15</td>\n",
       "    </tr>\n",
       "    <tr>\n",
       "      <th>7</th>\n",
       "      <td>Light GBM Regressor (catigoricals)</td>\n",
       "      <td>0.38</td>\n",
       "      <td>0.18</td>\n",
       "    </tr>\n",
       "  </tbody>\n",
       "</table>\n",
       "</div>"
      ],
      "text/plain": [
       "                                Model  train_mape val_mape\n",
       "0                               const        0.88         \n",
       "1                    LinearRegression        0.39   ~10^10\n",
       "2               DecisionTreeRegressor        0.62     0.43\n",
       "3                        MLPRegressor        0.88      8.1\n",
       "4                        RandomForest        0.16     0.14\n",
       "5           GradientBoostingRegressor        0.23     0.23\n",
       "6                 Light GBM Regressor        0.18     0.15\n",
       "7  Light GBM Regressor (catigoricals)        0.38     0.18"
      ]
     },
     "execution_count": 76,
     "metadata": {},
     "output_type": "execute_result"
    }
   ],
   "source": [
    "res = ['Light GBM Regressor (catigoricals)', 0.38, 0.18]\n",
    "tab_total.loc[len(tab_total.index)] = res\n",
    "tab_total"
   ]
  },
  {
   "cell_type": "markdown",
   "id": "bd87c168",
   "metadata": {},
   "source": [
    "## XGBoost Regressor"
   ]
  },
  {
   "cell_type": "code",
   "execution_count": 131,
   "id": "98ee753c",
   "metadata": {},
   "outputs": [
    {
     "name": "stdout",
     "output_type": "stream",
     "text": [
      "Время обучения и поиска оптимальных параметров:  6.35  минут\n",
      "Best Parameters:  {'regressor__learning_rate': 0.1, 'regressor__n_estimators': 100, 'regressor__random_state': 1}\n",
      "MAPE: 0.21%\n"
     ]
    }
   ],
   "source": [
    "start = time.time()\n",
    "pipeline = Pipeline([\n",
    "    ('regressor', XGBRegressor())\n",
    "])\n",
    "param_grid = {'regressor__learning_rate': [0.1],\n",
    "              'regressor__n_estimators': [100, 250],\n",
    "              'regressor__random_state':[rs]\n",
    "              'regressor__subsample':[0.1, 0.05]\n",
    "             }\n",
    "grid_search = GridSearchCV(pipeline, param_grid=param_grid, scoring=scoring, cv=5)\n",
    "grid_search.fit(X_train, y_train)\n",
    "end = time.time()\n",
    "print(\"Время обучения и поиска оптимальных параметров: \", round((end-start)/60, 2), \" минут\")\n",
    "# Вывод наилучших параметров и значения MAPE\n",
    "print(\"Best Parameters: \", grid_search.best_params_)\n",
    "print(f\"MAPE: {grid_search.best_score_:.2f}%\")"
   ]
  },
  {
   "cell_type": "code",
   "execution_count": 132,
   "id": "a3bfc870",
   "metadata": {},
   "outputs": [
    {
     "name": "stdout",
     "output_type": "stream",
     "text": [
      "MAPE на валидационной выборке: 0.18%\n"
     ]
    }
   ],
   "source": [
    "y_pred = grid_search.predict(X_val)\n",
    "sc_mape=mape(grid_search.predict(X_val), y_val)\n",
    "print(f\"MAPE на валидационной выборке: {sc_mape:.2f}%\")"
   ]
  },
  {
   "cell_type": "code",
   "execution_count": 133,
   "id": "9c39a9cd",
   "metadata": {},
   "outputs": [
    {
     "data": {
      "text/plain": [
       "[<matplotlib.lines.Line2D at 0x2e1c7bf40>]"
      ]
     },
     "execution_count": 133,
     "metadata": {},
     "output_type": "execute_result"
    },
    {
     "data": {
      "image/png": "[encoded data removed]",
      "text/plain": [
       "<Figure size 1000x500 with 1 Axes>"
      ]
     },
     "metadata": {},
     "output_type": "display_data"
    }
   ],
   "source": [
    "plt.figure(figsize=(10, 5))\n",
    "plt.title('XGBRegressor', fontsize=14)\n",
    "plt.scatter(x=y_val, y=y_pred)\n",
    "m, b = np.polyfit(y_val, y_pred, 1)\n",
    "plt.plot(y_val, m*y_val+b, 'r')"
   ]
  },
  {
   "cell_type": "code",
   "execution_count": 134,
   "id": "8b112be4",
   "metadata": {},
   "outputs": [],
   "source": [
    "y_test = pd.Series(grid_search.predict(X_test))\n",
    "XGBR_res = pd.concat([test['vin'], y_test], axis=1)\n",
    "XGBR_res.columns = ['vin', 'sellingprice']\n",
    "XGBR_res.to_csv('XGBR_res.csv', index=False)"
   ]
  },
  {
   "cell_type": "code",
   "execution_count": 77,
   "id": "b45fcb9f",
   "metadata": {},
   "outputs": [
    {
     "data": {
      "text/html": [
       "<div>\n",
       "<style scoped>\n",
       "    .dataframe tbody tr th:only-of-type {\n",
       "        vertical-align: middle;\n",
       "    }\n",
       "\n",
       "    .dataframe tbody tr th {\n",
       "        vertical-align: top;\n",
       "    }\n",
       "\n",
       "    .dataframe thead th {\n",
       "        text-align: right;\n",
       "    }\n",
       "</style>\n",
       "<table border=\"1\" class=\"dataframe\">\n",
       "  <thead>\n",
       "    <tr style=\"text-align: right;\">\n",
       "      <th></th>\n",
       "      <th>Model</th>\n",
       "      <th>train_mape</th>\n",
       "      <th>val_mape</th>\n",
       "    </tr>\n",
       "  </thead>\n",
       "  <tbody>\n",
       "    <tr>\n",
       "      <th>0</th>\n",
       "      <td>const</td>\n",
       "      <td>0.88</td>\n",
       "      <td></td>\n",
       "    </tr>\n",
       "    <tr>\n",
       "      <th>1</th>\n",
       "      <td>LinearRegression</td>\n",
       "      <td>0.39</td>\n",
       "      <td>~10^10</td>\n",
       "    </tr>\n",
       "    <tr>\n",
       "      <th>2</th>\n",
       "      <td>DecisionTreeRegressor</td>\n",
       "      <td>0.62</td>\n",
       "      <td>0.43</td>\n",
       "    </tr>\n",
       "    <tr>\n",
       "      <th>3</th>\n",
       "      <td>MLPRegressor</td>\n",
       "      <td>0.88</td>\n",
       "      <td>8.1</td>\n",
       "    </tr>\n",
       "    <tr>\n",
       "      <th>4</th>\n",
       "      <td>RandomForest</td>\n",
       "      <td>0.16</td>\n",
       "      <td>0.14</td>\n",
       "    </tr>\n",
       "    <tr>\n",
       "      <th>5</th>\n",
       "      <td>GradientBoostingRegressor</td>\n",
       "      <td>0.23</td>\n",
       "      <td>0.23</td>\n",
       "    </tr>\n",
       "    <tr>\n",
       "      <th>6</th>\n",
       "      <td>Light GBM Regressor</td>\n",
       "      <td>0.18</td>\n",
       "      <td>0.15</td>\n",
       "    </tr>\n",
       "    <tr>\n",
       "      <th>7</th>\n",
       "      <td>Light GBM Regressor (catigoricals)</td>\n",
       "      <td>0.38</td>\n",
       "      <td>0.18</td>\n",
       "    </tr>\n",
       "    <tr>\n",
       "      <th>8</th>\n",
       "      <td>XGBoost Regressor</td>\n",
       "      <td>0.21</td>\n",
       "      <td>0.18</td>\n",
       "    </tr>\n",
       "  </tbody>\n",
       "</table>\n",
       "</div>"
      ],
      "text/plain": [
       "                                Model  train_mape val_mape\n",
       "0                               const        0.88         \n",
       "1                    LinearRegression        0.39   ~10^10\n",
       "2               DecisionTreeRegressor        0.62     0.43\n",
       "3                        MLPRegressor        0.88      8.1\n",
       "4                        RandomForest        0.16     0.14\n",
       "5           GradientBoostingRegressor        0.23     0.23\n",
       "6                 Light GBM Regressor        0.18     0.15\n",
       "7  Light GBM Regressor (catigoricals)        0.38     0.18\n",
       "8                   XGBoost Regressor        0.21     0.18"
      ]
     },
     "execution_count": 77,
     "metadata": {},
     "output_type": "execute_result"
    }
   ],
   "source": [
    "res = ['XGBoost Regressor', 0.21, 0.18]\n",
    "tab_total.loc[len(tab_total.index)] = res\n",
    "tab_total"
   ]
  },
  {
   "cell_type": "markdown",
   "id": "c728d7cd",
   "metadata": {},
   "source": [
    "## CatBoostRegressor"
   ]
  },
  {
   "cell_type": "markdown",
   "id": "4978a587",
   "metadata": {},
   "source": [
    "CatBoost - может кодировать категориальные признаки. Данные для обучения и теста: X_train_CatBoost, X_test_CatBoost, y_train_CatBoost."
   ]
  },
  {
   "cell_type": "code",
   "execution_count": 62,
   "id": "c810ab75",
   "metadata": {},
   "outputs": [
    {
     "name": "stdout",
     "output_type": "stream",
     "text": [
      "<class 'pandas.core.frame.DataFrame'>\n",
      "RangeIndex: 440236 entries, 0 to 440235\n",
      "Data columns (total 13 columns):\n",
      " #   Column        Non-Null Count   Dtype  \n",
      "---  ------        --------------   -----  \n",
      " 0   year          440236 non-null  int64  \n",
      " 1   condition     440236 non-null  float64\n",
      " 2   odometer      440236 non-null  float64\n",
      " 3   use_time      440236 non-null  int64  \n",
      " 4   make          440236 non-null  object \n",
      " 5   body          440236 non-null  object \n",
      " 6   state         440236 non-null  object \n",
      " 7   model         440236 non-null  object \n",
      " 8   color         440236 non-null  object \n",
      " 9   interior      440236 non-null  object \n",
      " 10  transmission  440236 non-null  object \n",
      " 11  trim          440236 non-null  object \n",
      " 12  seller        440236 non-null  object \n",
      "dtypes: float64(2), int64(2), object(9)\n",
      "memory usage: 43.7+ MB\n"
     ]
    }
   ],
   "source": [
    "X_train_CatBoost.info() "
   ]
  },
  {
   "cell_type": "code",
   "execution_count": 63,
   "id": "6573391d",
   "metadata": {},
   "outputs": [
    {
     "data": {
      "text/plain": [
       "year            0\n",
       "condition       0\n",
       "odometer        0\n",
       "use_time        0\n",
       "make            0\n",
       "body            0\n",
       "state           0\n",
       "model           0\n",
       "color           0\n",
       "interior        0\n",
       "transmission    0\n",
       "trim            0\n",
       "seller          0\n",
       "dtype: int64"
      ]
     },
     "execution_count": 63,
     "metadata": {},
     "output_type": "execute_result"
    }
   ],
   "source": [
    "X_train_CatBoost.isnull().sum()"
   ]
  },
  {
   "cell_type": "code",
   "execution_count": 68,
   "id": "0579a8e9",
   "metadata": {},
   "outputs": [],
   "source": [
    "cat_f=categorical_features"
   ]
  },
  {
   "cell_type": "code",
   "execution_count": 72,
   "id": "47359d32",
   "metadata": {},
   "outputs": [
    {
     "data": {
      "text/plain": [
       "array([ 4,  5,  6,  8,  9, 10])"
      ]
     },
     "execution_count": 72,
     "metadata": {},
     "output_type": "execute_result"
    }
   ],
   "source": [
    "cat_f_ind = np.where(np.in1d(X_train_CatBoost.columns, cat_f))[0].astype('int')\n",
    "cat_f_ind"
   ]
  },
  {
   "cell_type": "code",
   "execution_count": 73,
   "id": "a0068d32",
   "metadata": {},
   "outputs": [],
   "source": [
    "X_train_cat, X_val_cat, y_train_cat, y_val_cat = train_test_split(X_train_CatBoost, y_train_CatBoost, train_size=0.7, random_state=rs)"
   ]
  },
  {
   "cell_type": "code",
   "execution_count": 74,
   "id": "480e46cc",
   "metadata": {},
   "outputs": [
    {
     "ename": "ValueError",
     "evalue": "\nAll the 5 fits failed.\nIt is very likely that your model is misconfigured.\nYou can try to debug the error by setting error_score='raise'.\n\nBelow are more details about the failures:\n--------------------------------------------------------------------------------\n1 fits failed with the following error:\nTraceback (most recent call last):\n  File \"_catboost.pyx\", line 2288, in _catboost.get_float_feature\n  File \"_catboost.pyx\", line 1141, in _catboost._FloatOrNan\n  File \"_catboost.pyx\", line 951, in _catboost._FloatOrNanFromString\nTypeError: Cannot convert 'b'expedition'' to float\n\nDuring handling of the above exception, another exception occurred:\n\nTraceback (most recent call last):\n  File \"/Users/georgiismirnov/anaconda3/lib/python3.10/site-packages/sklearn/model_selection/_validation.py\", line 686, in _fit_and_score\n    estimator.fit(X_train, y_train, **fit_params)\n  File \"/Users/georgiismirnov/anaconda3/lib/python3.10/site-packages/sklearn/pipeline.py\", line 405, in fit\n    self._final_estimator.fit(Xt, y, **fit_params_last_step)\n  File \"/Users/georgiismirnov/anaconda3/lib/python3.10/site-packages/catboost/core.py\", line 5734, in fit\n    return self._fit(X, y, cat_features, text_features, embedding_features, None, sample_weight, None, None, None, None, baseline,\n  File \"/Users/georgiismirnov/anaconda3/lib/python3.10/site-packages/catboost/core.py\", line 2341, in _fit\n    train_params = self._prepare_train_params(\n  File \"/Users/georgiismirnov/anaconda3/lib/python3.10/site-packages/catboost/core.py\", line 2222, in _prepare_train_params\n    train_pool = _build_train_pool(X, y, cat_features, text_features, embedding_features, pairs,\n  File \"/Users/georgiismirnov/anaconda3/lib/python3.10/site-packages/catboost/core.py\", line 1438, in _build_train_pool\n    train_pool = Pool(X, y, cat_features=cat_features, text_features=text_features, embedding_features=embedding_features, pairs=pairs, weight=sample_weight, group_id=group_id,\n  File \"/Users/georgiismirnov/anaconda3/lib/python3.10/site-packages/catboost/core.py\", line 792, in __init__\n    self._init(data, label, cat_features, text_features, embedding_features, embedding_features_data, pairs, weight,\n  File \"/Users/georgiismirnov/anaconda3/lib/python3.10/site-packages/catboost/core.py\", line 1419, in _init\n    self._init_pool(data, label, cat_features, text_features, embedding_features, embedding_features_data, pairs, weight,\n  File \"_catboost.pyx\", line 3956, in _catboost._PoolBase._init_pool\n  File \"_catboost.pyx\", line 4006, in _catboost._PoolBase._init_pool\n  File \"_catboost.pyx\", line 3822, in _catboost._PoolBase._init_features_order_layout_pool\n  File \"_catboost.pyx\", line 2788, in _catboost._set_features_order_data_pd_data_frame\n  File \"_catboost.pyx\", line 2329, in _catboost.create_num_factor_data\n  File \"_catboost.pyx\", line 2290, in _catboost.get_float_feature\n_catboost.CatBoostError: Bad value for num_feature[non_default_doc_idx=0,feature_idx=7]=\"expedition\": Cannot convert 'b'expedition'' to float\n\n--------------------------------------------------------------------------------\n4 fits failed with the following error:\nTraceback (most recent call last):\n  File \"_catboost.pyx\", line 2288, in _catboost.get_float_feature\n  File \"_catboost.pyx\", line 1141, in _catboost._FloatOrNan\n  File \"_catboost.pyx\", line 951, in _catboost._FloatOrNanFromString\nTypeError: Cannot convert 'b'f-250 super duty'' to float\n\nDuring handling of the above exception, another exception occurred:\n\nTraceback (most recent call last):\n  File \"/Users/georgiismirnov/anaconda3/lib/python3.10/site-packages/sklearn/model_selection/_validation.py\", line 686, in _fit_and_score\n    estimator.fit(X_train, y_train, **fit_params)\n  File \"/Users/georgiismirnov/anaconda3/lib/python3.10/site-packages/sklearn/pipeline.py\", line 405, in fit\n    self._final_estimator.fit(Xt, y, **fit_params_last_step)\n  File \"/Users/georgiismirnov/anaconda3/lib/python3.10/site-packages/catboost/core.py\", line 5734, in fit\n    return self._fit(X, y, cat_features, text_features, embedding_features, None, sample_weight, None, None, None, None, baseline,\n  File \"/Users/georgiismirnov/anaconda3/lib/python3.10/site-packages/catboost/core.py\", line 2341, in _fit\n    train_params = self._prepare_train_params(\n  File \"/Users/georgiismirnov/anaconda3/lib/python3.10/site-packages/catboost/core.py\", line 2222, in _prepare_train_params\n    train_pool = _build_train_pool(X, y, cat_features, text_features, embedding_features, pairs,\n  File \"/Users/georgiismirnov/anaconda3/lib/python3.10/site-packages/catboost/core.py\", line 1438, in _build_train_pool\n    train_pool = Pool(X, y, cat_features=cat_features, text_features=text_features, embedding_features=embedding_features, pairs=pairs, weight=sample_weight, group_id=group_id,\n  File \"/Users/georgiismirnov/anaconda3/lib/python3.10/site-packages/catboost/core.py\", line 792, in __init__\n    self._init(data, label, cat_features, text_features, embedding_features, embedding_features_data, pairs, weight,\n  File \"/Users/georgiismirnov/anaconda3/lib/python3.10/site-packages/catboost/core.py\", line 1419, in _init\n    self._init_pool(data, label, cat_features, text_features, embedding_features, embedding_features_data, pairs, weight,\n  File \"_catboost.pyx\", line 3956, in _catboost._PoolBase._init_pool\n  File \"_catboost.pyx\", line 4006, in _catboost._PoolBase._init_pool\n  File \"_catboost.pyx\", line 3822, in _catboost._PoolBase._init_features_order_layout_pool\n  File \"_catboost.pyx\", line 2788, in _catboost._set_features_order_data_pd_data_frame\n  File \"_catboost.pyx\", line 2329, in _catboost.create_num_factor_data\n  File \"_catboost.pyx\", line 2290, in _catboost.get_float_feature\n_catboost.CatBoostError: Bad value for num_feature[non_default_doc_idx=0,feature_idx=7]=\"f-250 super duty\": Cannot convert 'b'f-250 super duty'' to float\n",
     "output_type": "error",
     "traceback": [
      "\u001b[0;31m---------------------------------------------------------------------------\u001b[0m",
      "\u001b[0;31mValueError\u001b[0m                                Traceback (most recent call last)",
      "Cell \u001b[0;32mIn[74], line 14\u001b[0m\n\u001b[1;32m      5\u001b[0m param_grid \u001b[38;5;241m=\u001b[39m {\u001b[38;5;124m'\u001b[39m\u001b[38;5;124mregressor__learning_rate\u001b[39m\u001b[38;5;124m'\u001b[39m: [\u001b[38;5;241m0.1\u001b[39m],\n\u001b[1;32m      6\u001b[0m               \u001b[38;5;124m'\u001b[39m\u001b[38;5;124mregressor__iterations\u001b[39m\u001b[38;5;124m'\u001b[39m: [\u001b[38;5;241m100\u001b[39m],\n\u001b[1;32m      7\u001b[0m               \u001b[38;5;124m'\u001b[39m\u001b[38;5;124mregressor__random_state\u001b[39m\u001b[38;5;124m'\u001b[39m:[rs], \n\u001b[0;32m   (...)\u001b[0m\n\u001b[1;32m     11\u001b[0m               \u001b[38;5;124m'\u001b[39m\u001b[38;5;124mregressor__cat_features\u001b[39m\u001b[38;5;124m'\u001b[39m: [cat_f_ind]\n\u001b[1;32m     12\u001b[0m              }\n\u001b[1;32m     13\u001b[0m grid_search \u001b[38;5;241m=\u001b[39m GridSearchCV(pipeline, param_grid\u001b[38;5;241m=\u001b[39mparam_grid, scoring\u001b[38;5;241m=\u001b[39mscoring, cv\u001b[38;5;241m=\u001b[39m\u001b[38;5;241m5\u001b[39m)\n\u001b[0;32m---> 14\u001b[0m \u001b[43mgrid_search\u001b[49m\u001b[38;5;241;43m.\u001b[39;49m\u001b[43mfit\u001b[49m\u001b[43m(\u001b[49m\u001b[43mX_train_cat\u001b[49m\u001b[43m,\u001b[49m\u001b[43m \u001b[49m\u001b[43my_train_cat\u001b[49m\u001b[43m)\u001b[49m\n\u001b[1;32m     15\u001b[0m end \u001b[38;5;241m=\u001b[39m time\u001b[38;5;241m.\u001b[39mtime()\n\u001b[1;32m     16\u001b[0m \u001b[38;5;28mprint\u001b[39m(\u001b[38;5;124m\"\u001b[39m\u001b[38;5;124mВремя обучения и поиска оптимальных параметров: \u001b[39m\u001b[38;5;124m\"\u001b[39m, \u001b[38;5;28mround\u001b[39m((end\u001b[38;5;241m-\u001b[39mstart)\u001b[38;5;241m/\u001b[39m\u001b[38;5;241m60\u001b[39m, \u001b[38;5;241m2\u001b[39m), \u001b[38;5;124m\"\u001b[39m\u001b[38;5;124m минут\u001b[39m\u001b[38;5;124m\"\u001b[39m)\n",
      "File \u001b[0;32m~/anaconda3/lib/python3.10/site-packages/sklearn/model_selection/_search.py:874\u001b[0m, in \u001b[0;36mBaseSearchCV.fit\u001b[0;34m(self, X, y, groups, **fit_params)\u001b[0m\n\u001b[1;32m    868\u001b[0m     results \u001b[38;5;241m=\u001b[39m \u001b[38;5;28mself\u001b[39m\u001b[38;5;241m.\u001b[39m_format_results(\n\u001b[1;32m    869\u001b[0m         all_candidate_params, n_splits, all_out, all_more_results\n\u001b[1;32m    870\u001b[0m     )\n\u001b[1;32m    872\u001b[0m     \u001b[38;5;28;01mreturn\u001b[39;00m results\n\u001b[0;32m--> 874\u001b[0m \u001b[38;5;28;43mself\u001b[39;49m\u001b[38;5;241;43m.\u001b[39;49m\u001b[43m_run_search\u001b[49m\u001b[43m(\u001b[49m\u001b[43mevaluate_candidates\u001b[49m\u001b[43m)\u001b[49m\n\u001b[1;32m    876\u001b[0m \u001b[38;5;66;03m# multimetric is determined here because in the case of a callable\u001b[39;00m\n\u001b[1;32m    877\u001b[0m \u001b[38;5;66;03m# self.scoring the return type is only known after calling\u001b[39;00m\n\u001b[1;32m    878\u001b[0m first_test_score \u001b[38;5;241m=\u001b[39m all_out[\u001b[38;5;241m0\u001b[39m][\u001b[38;5;124m\"\u001b[39m\u001b[38;5;124mtest_scores\u001b[39m\u001b[38;5;124m\"\u001b[39m]\n",
      "File \u001b[0;32m~/anaconda3/lib/python3.10/site-packages/sklearn/model_selection/_search.py:1388\u001b[0m, in \u001b[0;36mGridSearchCV._run_search\u001b[0;34m(self, evaluate_candidates)\u001b[0m\n\u001b[1;32m   1386\u001b[0m \u001b[38;5;28;01mdef\u001b[39;00m \u001b[38;5;21m_run_search\u001b[39m(\u001b[38;5;28mself\u001b[39m, evaluate_candidates):\n\u001b[1;32m   1387\u001b[0m     \u001b[38;5;124;03m\"\"\"Search all candidates in param_grid\"\"\"\u001b[39;00m\n\u001b[0;32m-> 1388\u001b[0m     \u001b[43mevaluate_candidates\u001b[49m\u001b[43m(\u001b[49m\u001b[43mParameterGrid\u001b[49m\u001b[43m(\u001b[49m\u001b[38;5;28;43mself\u001b[39;49m\u001b[38;5;241;43m.\u001b[39;49m\u001b[43mparam_grid\u001b[49m\u001b[43m)\u001b[49m\u001b[43m)\u001b[49m\n",
      "File \u001b[0;32m~/anaconda3/lib/python3.10/site-packages/sklearn/model_selection/_search.py:851\u001b[0m, in \u001b[0;36mBaseSearchCV.fit.<locals>.evaluate_candidates\u001b[0;34m(candidate_params, cv, more_results)\u001b[0m\n\u001b[1;32m    844\u001b[0m \u001b[38;5;28;01melif\u001b[39;00m \u001b[38;5;28mlen\u001b[39m(out) \u001b[38;5;241m!=\u001b[39m n_candidates \u001b[38;5;241m*\u001b[39m n_splits:\n\u001b[1;32m    845\u001b[0m     \u001b[38;5;28;01mraise\u001b[39;00m \u001b[38;5;167;01mValueError\u001b[39;00m(\n\u001b[1;32m    846\u001b[0m         \u001b[38;5;124m\"\u001b[39m\u001b[38;5;124mcv.split and cv.get_n_splits returned \u001b[39m\u001b[38;5;124m\"\u001b[39m\n\u001b[1;32m    847\u001b[0m         \u001b[38;5;124m\"\u001b[39m\u001b[38;5;124minconsistent results. Expected \u001b[39m\u001b[38;5;132;01m{}\u001b[39;00m\u001b[38;5;124m \u001b[39m\u001b[38;5;124m\"\u001b[39m\n\u001b[1;32m    848\u001b[0m         \u001b[38;5;124m\"\u001b[39m\u001b[38;5;124msplits, got \u001b[39m\u001b[38;5;132;01m{}\u001b[39;00m\u001b[38;5;124m\"\u001b[39m\u001b[38;5;241m.\u001b[39mformat(n_splits, \u001b[38;5;28mlen\u001b[39m(out) \u001b[38;5;241m/\u001b[39m\u001b[38;5;241m/\u001b[39m n_candidates)\n\u001b[1;32m    849\u001b[0m     )\n\u001b[0;32m--> 851\u001b[0m \u001b[43m_warn_or_raise_about_fit_failures\u001b[49m\u001b[43m(\u001b[49m\u001b[43mout\u001b[49m\u001b[43m,\u001b[49m\u001b[43m \u001b[49m\u001b[38;5;28;43mself\u001b[39;49m\u001b[38;5;241;43m.\u001b[39;49m\u001b[43merror_score\u001b[49m\u001b[43m)\u001b[49m\n\u001b[1;32m    853\u001b[0m \u001b[38;5;66;03m# For callable self.scoring, the return type is only know after\u001b[39;00m\n\u001b[1;32m    854\u001b[0m \u001b[38;5;66;03m# calling. If the return type is a dictionary, the error scores\u001b[39;00m\n\u001b[1;32m    855\u001b[0m \u001b[38;5;66;03m# can now be inserted with the correct key. The type checking\u001b[39;00m\n\u001b[1;32m    856\u001b[0m \u001b[38;5;66;03m# of out will be done in `_insert_error_scores`.\u001b[39;00m\n\u001b[1;32m    857\u001b[0m \u001b[38;5;28;01mif\u001b[39;00m callable(\u001b[38;5;28mself\u001b[39m\u001b[38;5;241m.\u001b[39mscoring):\n",
      "File \u001b[0;32m~/anaconda3/lib/python3.10/site-packages/sklearn/model_selection/_validation.py:367\u001b[0m, in \u001b[0;36m_warn_or_raise_about_fit_failures\u001b[0;34m(results, error_score)\u001b[0m\n\u001b[1;32m    360\u001b[0m \u001b[38;5;28;01mif\u001b[39;00m num_failed_fits \u001b[38;5;241m==\u001b[39m num_fits:\n\u001b[1;32m    361\u001b[0m     all_fits_failed_message \u001b[38;5;241m=\u001b[39m (\n\u001b[1;32m    362\u001b[0m         \u001b[38;5;124mf\u001b[39m\u001b[38;5;124m\"\u001b[39m\u001b[38;5;130;01m\\n\u001b[39;00m\u001b[38;5;124mAll the \u001b[39m\u001b[38;5;132;01m{\u001b[39;00mnum_fits\u001b[38;5;132;01m}\u001b[39;00m\u001b[38;5;124m fits failed.\u001b[39m\u001b[38;5;130;01m\\n\u001b[39;00m\u001b[38;5;124m\"\u001b[39m\n\u001b[1;32m    363\u001b[0m         \u001b[38;5;124m\"\u001b[39m\u001b[38;5;124mIt is very likely that your model is misconfigured.\u001b[39m\u001b[38;5;130;01m\\n\u001b[39;00m\u001b[38;5;124m\"\u001b[39m\n\u001b[1;32m    364\u001b[0m         \u001b[38;5;124m\"\u001b[39m\u001b[38;5;124mYou can try to debug the error by setting error_score=\u001b[39m\u001b[38;5;124m'\u001b[39m\u001b[38;5;124mraise\u001b[39m\u001b[38;5;124m'\u001b[39m\u001b[38;5;124m.\u001b[39m\u001b[38;5;130;01m\\n\u001b[39;00m\u001b[38;5;130;01m\\n\u001b[39;00m\u001b[38;5;124m\"\u001b[39m\n\u001b[1;32m    365\u001b[0m         \u001b[38;5;124mf\u001b[39m\u001b[38;5;124m\"\u001b[39m\u001b[38;5;124mBelow are more details about the failures:\u001b[39m\u001b[38;5;130;01m\\n\u001b[39;00m\u001b[38;5;132;01m{\u001b[39;00mfit_errors_summary\u001b[38;5;132;01m}\u001b[39;00m\u001b[38;5;124m\"\u001b[39m\n\u001b[1;32m    366\u001b[0m     )\n\u001b[0;32m--> 367\u001b[0m     \u001b[38;5;28;01mraise\u001b[39;00m \u001b[38;5;167;01mValueError\u001b[39;00m(all_fits_failed_message)\n\u001b[1;32m    369\u001b[0m \u001b[38;5;28;01melse\u001b[39;00m:\n\u001b[1;32m    370\u001b[0m     some_fits_failed_message \u001b[38;5;241m=\u001b[39m (\n\u001b[1;32m    371\u001b[0m         \u001b[38;5;124mf\u001b[39m\u001b[38;5;124m\"\u001b[39m\u001b[38;5;130;01m\\n\u001b[39;00m\u001b[38;5;132;01m{\u001b[39;00mnum_failed_fits\u001b[38;5;132;01m}\u001b[39;00m\u001b[38;5;124m fits failed out of a total of \u001b[39m\u001b[38;5;132;01m{\u001b[39;00mnum_fits\u001b[38;5;132;01m}\u001b[39;00m\u001b[38;5;124m.\u001b[39m\u001b[38;5;130;01m\\n\u001b[39;00m\u001b[38;5;124m\"\u001b[39m\n\u001b[1;32m    372\u001b[0m         \u001b[38;5;124m\"\u001b[39m\u001b[38;5;124mThe score on these train-test partitions for these parameters\u001b[39m\u001b[38;5;124m\"\u001b[39m\n\u001b[0;32m   (...)\u001b[0m\n\u001b[1;32m    376\u001b[0m         \u001b[38;5;124mf\u001b[39m\u001b[38;5;124m\"\u001b[39m\u001b[38;5;124mBelow are more details about the failures:\u001b[39m\u001b[38;5;130;01m\\n\u001b[39;00m\u001b[38;5;132;01m{\u001b[39;00mfit_errors_summary\u001b[38;5;132;01m}\u001b[39;00m\u001b[38;5;124m\"\u001b[39m\n\u001b[1;32m    377\u001b[0m     )\n",
      "\u001b[0;31mValueError\u001b[0m: \nAll the 5 fits failed.\nIt is very likely that your model is misconfigured.\nYou can try to debug the error by setting error_score='raise'.\n\nBelow are more details about the failures:\n--------------------------------------------------------------------------------\n1 fits failed with the following error:\nTraceback (most recent call last):\n  File \"_catboost.pyx\", line 2288, in _catboost.get_float_feature\n  File \"_catboost.pyx\", line 1141, in _catboost._FloatOrNan\n  File \"_catboost.pyx\", line 951, in _catboost._FloatOrNanFromString\nTypeError: Cannot convert 'b'expedition'' to float\n\nDuring handling of the above exception, another exception occurred:\n\nTraceback (most recent call last):\n  File \"/Users/georgiismirnov/anaconda3/lib/python3.10/site-packages/sklearn/model_selection/_validation.py\", line 686, in _fit_and_score\n    estimator.fit(X_train, y_train, **fit_params)\n  File \"/Users/georgiismirnov/anaconda3/lib/python3.10/site-packages/sklearn/pipeline.py\", line 405, in fit\n    self._final_estimator.fit(Xt, y, **fit_params_last_step)\n  File \"/Users/georgiismirnov/anaconda3/lib/python3.10/site-packages/catboost/core.py\", line 5734, in fit\n    return self._fit(X, y, cat_features, text_features, embedding_features, None, sample_weight, None, None, None, None, baseline,\n  File \"/Users/georgiismirnov/anaconda3/lib/python3.10/site-packages/catboost/core.py\", line 2341, in _fit\n    train_params = self._prepare_train_params(\n  File \"/Users/georgiismirnov/anaconda3/lib/python3.10/site-packages/catboost/core.py\", line 2222, in _prepare_train_params\n    train_pool = _build_train_pool(X, y, cat_features, text_features, embedding_features, pairs,\n  File \"/Users/georgiismirnov/anaconda3/lib/python3.10/site-packages/catboost/core.py\", line 1438, in _build_train_pool\n    train_pool = Pool(X, y, cat_features=cat_features, text_features=text_features, embedding_features=embedding_features, pairs=pairs, weight=sample_weight, group_id=group_id,\n  File \"/Users/georgiismirnov/anaconda3/lib/python3.10/site-packages/catboost/core.py\", line 792, in __init__\n    self._init(data, label, cat_features, text_features, embedding_features, embedding_features_data, pairs, weight,\n  File \"/Users/georgiismirnov/anaconda3/lib/python3.10/site-packages/catboost/core.py\", line 1419, in _init\n    self._init_pool(data, label, cat_features, text_features, embedding_features, embedding_features_data, pairs, weight,\n  File \"_catboost.pyx\", line 3956, in _catboost._PoolBase._init_pool\n  File \"_catboost.pyx\", line 4006, in _catboost._PoolBase._init_pool\n  File \"_catboost.pyx\", line 3822, in _catboost._PoolBase._init_features_order_layout_pool\n  File \"_catboost.pyx\", line 2788, in _catboost._set_features_order_data_pd_data_frame\n  File \"_catboost.pyx\", line 2329, in _catboost.create_num_factor_data\n  File \"_catboost.pyx\", line 2290, in _catboost.get_float_feature\n_catboost.CatBoostError: Bad value for num_feature[non_default_doc_idx=0,feature_idx=7]=\"expedition\": Cannot convert 'b'expedition'' to float\n\n--------------------------------------------------------------------------------\n4 fits failed with the following error:\nTraceback (most recent call last):\n  File \"_catboost.pyx\", line 2288, in _catboost.get_float_feature\n  File \"_catboost.pyx\", line 1141, in _catboost._FloatOrNan\n  File \"_catboost.pyx\", line 951, in _catboost._FloatOrNanFromString\nTypeError: Cannot convert 'b'f-250 super duty'' to float\n\nDuring handling of the above exception, another exception occurred:\n\nTraceback (most recent call last):\n  File \"/Users/georgiismirnov/anaconda3/lib/python3.10/site-packages/sklearn/model_selection/_validation.py\", line 686, in _fit_and_score\n    estimator.fit(X_train, y_train, **fit_params)\n  File \"/Users/georgiismirnov/anaconda3/lib/python3.10/site-packages/sklearn/pipeline.py\", line 405, in fit\n    self._final_estimator.fit(Xt, y, **fit_params_last_step)\n  File \"/Users/georgiismirnov/anaconda3/lib/python3.10/site-packages/catboost/core.py\", line 5734, in fit\n    return self._fit(X, y, cat_features, text_features, embedding_features, None, sample_weight, None, None, None, None, baseline,\n  File \"/Users/georgiismirnov/anaconda3/lib/python3.10/site-packages/catboost/core.py\", line 2341, in _fit\n    train_params = self._prepare_train_params(\n  File \"/Users/georgiismirnov/anaconda3/lib/python3.10/site-packages/catboost/core.py\", line 2222, in _prepare_train_params\n    train_pool = _build_train_pool(X, y, cat_features, text_features, embedding_features, pairs,\n  File \"/Users/georgiismirnov/anaconda3/lib/python3.10/site-packages/catboost/core.py\", line 1438, in _build_train_pool\n    train_pool = Pool(X, y, cat_features=cat_features, text_features=text_features, embedding_features=embedding_features, pairs=pairs, weight=sample_weight, group_id=group_id,\n  File \"/Users/georgiismirnov/anaconda3/lib/python3.10/site-packages/catboost/core.py\", line 792, in __init__\n    self._init(data, label, cat_features, text_features, embedding_features, embedding_features_data, pairs, weight,\n  File \"/Users/georgiismirnov/anaconda3/lib/python3.10/site-packages/catboost/core.py\", line 1419, in _init\n    self._init_pool(data, label, cat_features, text_features, embedding_features, embedding_features_data, pairs, weight,\n  File \"_catboost.pyx\", line 3956, in _catboost._PoolBase._init_pool\n  File \"_catboost.pyx\", line 4006, in _catboost._PoolBase._init_pool\n  File \"_catboost.pyx\", line 3822, in _catboost._PoolBase._init_features_order_layout_pool\n  File \"_catboost.pyx\", line 2788, in _catboost._set_features_order_data_pd_data_frame\n  File \"_catboost.pyx\", line 2329, in _catboost.create_num_factor_data\n  File \"_catboost.pyx\", line 2290, in _catboost.get_float_feature\n_catboost.CatBoostError: Bad value for num_feature[non_default_doc_idx=0,feature_idx=7]=\"f-250 super duty\": Cannot convert 'b'f-250 super duty'' to float\n"
     ]
    }
   ],
   "source": [
    "start = time.time()\n",
    "pipeline = Pipeline([\n",
    "    ('regressor', CatBoostRegressor())\n",
    "])\n",
    "param_grid = {'regressor__learning_rate': [0.1],\n",
    "              'regressor__iterations': [100],\n",
    "              'regressor__random_state':[rs], \n",
    "              'regressor__rsm': [0.7],\n",
    "              'regressor__depth': [15],\n",
    "              'regressor__logging_level': ['Silent'],\n",
    "              'regressor__cat_features': [cat_f_ind]\n",
    "             }\n",
    "grid_search = GridSearchCV(pipeline, param_grid=param_grid, scoring=scoring, cv=5)\n",
    "grid_search.fit(X_train_cat, y_train_cat)\n",
    "end = time.time()\n",
    "print(\"Время обучения и поиска оптимальных параметров: \", round((end-start)/60, 2), \" минут\")\n",
    "# Вывод наилучших параметров и значения MAPE\n",
    "print(\"Best Parameters: \", grid_search.best_params_)\n",
    "print(f\"MAPE: {grid_search.best_score_:.2f}%\")"
   ]
  },
  {
   "cell_type": "markdown",
   "id": "9679e37a",
   "metadata": {},
   "source": [
    "CatBoost failed пока не понял в чем ошибка...."
   ]
  },
  {
   "cell_type": "markdown",
   "id": "1ae73d7f",
   "metadata": {},
   "source": [
    "## Результаты"
   ]
  },
  {
   "cell_type": "code",
   "execution_count": 78,
   "id": "3368bd68",
   "metadata": {},
   "outputs": [
    {
     "data": {
      "text/html": [
       "<div>\n",
       "<style scoped>\n",
       "    .dataframe tbody tr th:only-of-type {\n",
       "        vertical-align: middle;\n",
       "    }\n",
       "\n",
       "    .dataframe tbody tr th {\n",
       "        vertical-align: top;\n",
       "    }\n",
       "\n",
       "    .dataframe thead th {\n",
       "        text-align: right;\n",
       "    }\n",
       "</style>\n",
       "<table border=\"1\" class=\"dataframe\">\n",
       "  <thead>\n",
       "    <tr style=\"text-align: right;\">\n",
       "      <th></th>\n",
       "      <th>Model</th>\n",
       "      <th>train_mape</th>\n",
       "      <th>val_mape</th>\n",
       "    </tr>\n",
       "  </thead>\n",
       "  <tbody>\n",
       "    <tr>\n",
       "      <th>0</th>\n",
       "      <td>const</td>\n",
       "      <td>0.88</td>\n",
       "      <td></td>\n",
       "    </tr>\n",
       "    <tr>\n",
       "      <th>1</th>\n",
       "      <td>LinearRegression</td>\n",
       "      <td>0.39</td>\n",
       "      <td>~10^10</td>\n",
       "    </tr>\n",
       "    <tr>\n",
       "      <th>2</th>\n",
       "      <td>DecisionTreeRegressor</td>\n",
       "      <td>0.62</td>\n",
       "      <td>0.43</td>\n",
       "    </tr>\n",
       "    <tr>\n",
       "      <th>3</th>\n",
       "      <td>MLPRegressor</td>\n",
       "      <td>0.88</td>\n",
       "      <td>8.1</td>\n",
       "    </tr>\n",
       "    <tr>\n",
       "      <th>4</th>\n",
       "      <td>RandomForest</td>\n",
       "      <td>0.16</td>\n",
       "      <td>0.14</td>\n",
       "    </tr>\n",
       "    <tr>\n",
       "      <th>5</th>\n",
       "      <td>GradientBoostingRegressor</td>\n",
       "      <td>0.23</td>\n",
       "      <td>0.23</td>\n",
       "    </tr>\n",
       "    <tr>\n",
       "      <th>6</th>\n",
       "      <td>Light GBM Regressor</td>\n",
       "      <td>0.18</td>\n",
       "      <td>0.15</td>\n",
       "    </tr>\n",
       "    <tr>\n",
       "      <th>7</th>\n",
       "      <td>Light GBM Regressor (catigoricals)</td>\n",
       "      <td>0.38</td>\n",
       "      <td>0.18</td>\n",
       "    </tr>\n",
       "    <tr>\n",
       "      <th>8</th>\n",
       "      <td>XGBoost Regressor</td>\n",
       "      <td>0.21</td>\n",
       "      <td>0.18</td>\n",
       "    </tr>\n",
       "  </tbody>\n",
       "</table>\n",
       "</div>"
      ],
      "text/plain": [
       "                                Model  train_mape val_mape\n",
       "0                               const        0.88         \n",
       "1                    LinearRegression        0.39   ~10^10\n",
       "2               DecisionTreeRegressor        0.62     0.43\n",
       "3                        MLPRegressor        0.88      8.1\n",
       "4                        RandomForest        0.16     0.14\n",
       "5           GradientBoostingRegressor        0.23     0.23\n",
       "6                 Light GBM Regressor        0.18     0.15\n",
       "7  Light GBM Regressor (catigoricals)        0.38     0.18\n",
       "8                   XGBoost Regressor        0.21     0.18"
      ]
     },
     "execution_count": 78,
     "metadata": {},
     "output_type": "execute_result"
    }
   ],
   "source": [
    "tab_total"
   ]
  },
  {
   "cell_type": "markdown",
   "id": "87eb8415",
   "metadata": {},
   "source": [
    "Для подбора оптимальных гиперпараметров модели параметров наилучшим образом подходят модели обученные методами RandomForest, GradientBoostingRegressor, Light GBM Regressor, XGBoost Regressor. За неимением на данный момент достаточного времени и ресурсов для подбора оптимальных параметров, предварительно обученные модели тестировались на тестовой выборке. "
   ]
  },
  {
   "cell_type": "markdown",
   "id": "4ab6d1d8",
   "metadata": {},
   "source": [
    "На тестовых данных (Kaggle) наилучшей моделью (с выбранными гиперпараметрами) показала себя модель обченная методом Light GBM Regressor, обученная на данных, которые кодировались и нормировались \"вручную\" методами OHE и MinMaxScaler() - MAPE = 19.58 (19.41) с паратметрами {'regressor__learning_rate': 0.05, 'regressor__n_estimators': 100, 'regressor__num_leaves': 120, 'regressor__random_state': 1}."
   ]
  },
  {
   "cell_type": "code",
   "execution_count": 79,
   "id": "d0ea3b77",
   "metadata": {},
   "outputs": [
    {
     "data": {
      "text/html": [
       "<style>#sk-container-id-1 {color: black;background-color: white;}#sk-container-id-1 pre{padding: 0;}#sk-container-id-1 div.sk-toggleable {background-color: white;}#sk-container-id-1 label.sk-toggleable__label {cursor: pointer;display: block;width: 100%;margin-bottom: 0;padding: 0.3em;box-sizing: border-box;text-align: center;}#sk-container-id-1 label.sk-toggleable__label-arrow:before {content: \"▸\";float: left;margin-right: 0.25em;color: #696969;}#sk-container-id-1 label.sk-toggleable__label-arrow:hover:before {color: black;}#sk-container-id-1 div.sk-estimator:hover label.sk-toggleable__label-arrow:before {color: black;}#sk-container-id-1 div.sk-toggleable__content {max-height: 0;max-width: 0;overflow: hidden;text-align: left;background-color: #f0f8ff;}#sk-container-id-1 div.sk-toggleable__content pre {margin: 0.2em;color: black;border-radius: 0.25em;background-color: #f0f8ff;}#sk-container-id-1 input.sk-toggleable__control:checked~div.sk-toggleable__content {max-height: 200px;max-width: 100%;overflow: auto;}#sk-container-id-1 input.sk-toggleable__control:checked~label.sk-toggleable__label-arrow:before {content: \"▾\";}#sk-container-id-1 div.sk-estimator input.sk-toggleable__control:checked~label.sk-toggleable__label {background-color: #d4ebff;}#sk-container-id-1 div.sk-label input.sk-toggleable__control:checked~label.sk-toggleable__label {background-color: #d4ebff;}#sk-container-id-1 input.sk-hidden--visually {border: 0;clip: rect(1px 1px 1px 1px);clip: rect(1px, 1px, 1px, 1px);height: 1px;margin: -1px;overflow: hidden;padding: 0;position: absolute;width: 1px;}#sk-container-id-1 div.sk-estimator {font-family: monospace;background-color: #f0f8ff;border: 1px dotted black;border-radius: 0.25em;box-sizing: border-box;margin-bottom: 0.5em;}#sk-container-id-1 div.sk-estimator:hover {background-color: #d4ebff;}#sk-container-id-1 div.sk-parallel-item::after {content: \"\";width: 100%;border-bottom: 1px solid gray;flex-grow: 1;}#sk-container-id-1 div.sk-label:hover label.sk-toggleable__label {background-color: #d4ebff;}#sk-container-id-1 div.sk-serial::before {content: \"\";position: absolute;border-left: 1px solid gray;box-sizing: border-box;top: 0;bottom: 0;left: 50%;z-index: 0;}#sk-container-id-1 div.sk-serial {display: flex;flex-direction: column;align-items: center;background-color: white;padding-right: 0.2em;padding-left: 0.2em;position: relative;}#sk-container-id-1 div.sk-item {position: relative;z-index: 1;}#sk-container-id-1 div.sk-parallel {display: flex;align-items: stretch;justify-content: center;background-color: white;position: relative;}#sk-container-id-1 div.sk-item::before, #sk-container-id-1 div.sk-parallel-item::before {content: \"\";position: absolute;border-left: 1px solid gray;box-sizing: border-box;top: 0;bottom: 0;left: 50%;z-index: -1;}#sk-container-id-1 div.sk-parallel-item {display: flex;flex-direction: column;z-index: 1;position: relative;background-color: white;}#sk-container-id-1 div.sk-parallel-item:first-child::after {align-self: flex-end;width: 50%;}#sk-container-id-1 div.sk-parallel-item:last-child::after {align-self: flex-start;width: 50%;}#sk-container-id-1 div.sk-parallel-item:only-child::after {width: 0;}#sk-container-id-1 div.sk-dashed-wrapped {border: 1px dashed gray;margin: 0 0.4em 0.5em 0.4em;box-sizing: border-box;padding-bottom: 0.4em;background-color: white;}#sk-container-id-1 div.sk-label label {font-family: monospace;font-weight: bold;display: inline-block;line-height: 1.2em;}#sk-container-id-1 div.sk-label-container {text-align: center;}#sk-container-id-1 div.sk-container {/* jupyter's `normalize.less` sets `[hidden] { display: none; }` but bootstrap.min.css set `[hidden] { display: none !important; }` so we also need the `!important` here to be able to override the default hidden behavior on the sphinx rendered scikit-learn.org. See: https://github.com/scikit-learn/scikit-learn/issues/21755 */display: inline-block !important;position: relative;}#sk-container-id-1 div.sk-text-repr-fallback {display: none;}</style><div id=\"sk-container-id-1\" class=\"sk-top-container\"><div class=\"sk-text-repr-fallback\"><pre>LGBMRegressor(learning_rate=0.05, num_leaves=120, random_state=1)</pre><b>In a Jupyter environment, please rerun this cell to show the HTML representation or trust the notebook. <br />On GitHub, the HTML representation is unable to render, please try loading this page with nbviewer.org.</b></div><div class=\"sk-container\" hidden><div class=\"sk-item\"><div class=\"sk-estimator sk-toggleable\"><input class=\"sk-toggleable__control sk-hidden--visually\" id=\"sk-estimator-id-1\" type=\"checkbox\" checked><label for=\"sk-estimator-id-1\" class=\"sk-toggleable__label sk-toggleable__label-arrow\">LGBMRegressor</label><div class=\"sk-toggleable__content\"><pre>LGBMRegressor(learning_rate=0.05, num_leaves=120, random_state=1)</pre></div></div></div></div></div>"
      ],
      "text/plain": [
       "LGBMRegressor(learning_rate=0.05, num_leaves=120, random_state=1)"
      ]
     },
     "execution_count": 79,
     "metadata": {},
     "output_type": "execute_result"
    }
   ],
   "source": [
    "lgbmr = LGBMRegressor(learning_rate=0.05, n_estimators=100, random_state=1, num_leaves=120)\n",
    "lgbmr.fit(X_train, y_train)"
   ]
  },
  {
   "cell_type": "code",
   "execution_count": 85,
   "id": "66fc3d49",
   "metadata": {},
   "outputs": [
    {
     "name": "stdout",
     "output_type": "stream",
     "text": [
      "Feature importances:\n",
      " 1. feature 'model' (2863.0000)\n",
      " 2. feature 'trim ' (1704.0000)\n",
      " 3. feature 'year ' (818.0000)\n",
      " 4. feature 'odometer' (519.0000)\n",
      " 5. feature 'body_truck' (383.0000)\n",
      " 6. feature 'make_bmw' (298.0000)\n",
      " 7. feature 'make_mercedes' (276.0000)\n",
      " 8. feature 'condition' (274.0000)\n",
      " 9. feature 'make_lexus' (249.0000)\n",
      "10. feature 'body_suv' (231.0000)\n",
      "11. feature 'make_chevrolet' (210.0000)\n",
      "12. feature 'make_infiniti' (192.0000)\n",
      "13. feature 'make_porsche' (169.0000)\n",
      "14. feature 'make_nissan' (164.0000)\n",
      "15. feature 'seller' (157.0000)\n",
      "16. feature 'make_ford' (146.0000)\n",
      "17. feature 'make_audi' (145.0000)\n",
      "18. feature 'make_cadillac' (143.0000)\n",
      "19. feature 'make_jeep' (142.0000)\n",
      "20. feature 'make_toyota' (137.0000)\n",
      "21. feature 'body_sedan' (133.0000)\n",
      "22. feature 'make_land_rover' (125.0000)\n",
      "23. feature 'body_hatchback' (122.0000)\n",
      "24. feature 'interior_gray' (117.0000)\n",
      "25. feature 'make_kia' (111.0000)\n",
      "26. feature 'make_acura' (105.0000)\n",
      "27. feature 'make_jaguar' (95.0000)\n",
      "28. feature 'body_coupe' (92.0000)\n",
      "29. feature 'make_Н/у' (89.0000)\n",
      "30. feature 'body_wagon' (89.0000)\n",
      "31. feature 'make_mitsubishi' (88.0000)\n",
      "32. feature 'make_dodge' (87.0000)\n",
      "33. feature 'make_gmc' (84.0000)\n",
      "34. feature 'make_volkswagen' (82.0000)\n",
      "35. feature 'make_hyundai' (78.0000)\n",
      "36. feature 'make_lincoln' (77.0000)\n",
      "37. feature 'body_convertible' (71.0000)\n",
      "38. feature 'make_honda' (62.0000)\n",
      "39. feature 'interior_brown' (61.0000)\n",
      "40. feature 'make_mazda' (60.0000)\n",
      "41. feature 'make_suzuki' (56.0000)\n",
      "42. feature 'make_smart' (43.0000)\n",
      "43. feature 'make_subaru' (43.0000)\n",
      "44. feature 'make_chrysler' (41.0000)\n",
      "45. feature 'make_hummer' (40.0000)\n",
      "46. feature 'make_fiat' (39.0000)\n",
      "47. feature 'make_saturn' (37.0000)\n",
      "48. feature 'body_minivan' (35.0000)\n",
      "49. feature 'transmission_automatic' (35.0000)\n",
      "50. feature 'state_on' (34.0000)\n",
      "51. feature 'color_black' (33.0000)\n",
      "52. feature 'make_buick' (32.0000)\n",
      "53. feature 'make_pontiac' (31.0000)\n",
      "54. feature 'body_Н/у' (31.0000)\n",
      "55. feature 'make_bentley' (30.0000)\n",
      "56. feature 'state_pr' (29.0000)\n",
      "57. feature 'make_ram' (27.0000)\n",
      "58. feature 'state_ca' (27.0000)\n",
      "59. feature 'make_mercury' (26.0000)\n",
      "60. feature 'make_maserati' (25.0000)\n",
      "61. feature 'make_mini' (22.0000)\n",
      "62. feature 'body_van' (21.0000)\n",
      "63. feature 'color_white' (20.0000)\n",
      "64. feature 'state_qc' (17.0000)\n",
      "65. feature 'make_scion' (13.0000)\n",
      "66. feature 'state_nv' (7.0000)\n",
      "67. feature 'state_md' (7.0000)\n",
      "68. feature 'state_tn' (7.0000)\n",
      "69. feature 'state_ma' (6.0000)\n",
      "70. feature 'make_saab' (6.0000)\n",
      "71. feature 'interior_red' (5.0000)\n",
      "72. feature 'make_volvo' (5.0000)\n",
      "73. feature 'state_wa' (3.0000)\n",
      "74. feature 'state_ab' (3.0000)\n",
      "75. feature 'state_tx' (3.0000)\n",
      "76. feature 'interior_black' (3.0000)\n",
      "77. feature 'state_il' (3.0000)\n",
      "78. feature 'state_oh' (2.0000)\n",
      "79. feature 'state_pa' (2.0000)\n",
      "80. feature 'state_co' (1.0000)\n",
      "81. feature 'state_ny' (1.0000)\n",
      "82. feature 'interior_—' (1.0000)\n",
      "83. feature 'make_geo' (0.0000)\n",
      "84. feature 'make_ford_tk' (0.0000)\n",
      "85. feature 'color_turquoise' (0.0000)\n",
      "86. feature 'color_yellow' (0.0000)\n",
      "87. feature 'color_silver' (0.0000)\n",
      "88. feature 'make_hyundai_tk' (0.0000)\n",
      "89. feature 'color_red' (0.0000)\n",
      "90. feature 'make_isuzu' (0.0000)\n",
      "91. feature 'color_purple' (0.0000)\n",
      "92. feature 'color_pink' (0.0000)\n",
      "93. feature 'color_orange' (0.0000)\n",
      "94. feature 'color_—' (0.0000)\n",
      "95. feature 'state_nm' (0.0000)\n",
      "96. feature 'make_fisker' (0.0000)\n",
      "97. feature 'interior_off-white' (0.0000)\n",
      "98. feature 'interior_yellow' (0.0000)\n",
      "99. feature 'interior_white' (0.0000)\n",
      "100. feature 'interior_tan' (0.0000)\n",
      "101. feature 'interior_silver' (0.0000)\n",
      "102. feature 'make_aston_martin' (0.0000)\n",
      "103. feature 'interior_purple' (0.0000)\n",
      "104. feature 'interior_orange' (0.0000)\n",
      "105. feature 'interior_green' (0.0000)\n",
      "106. feature 'interior_beige' (0.0000)\n",
      "107. feature 'interior_gold' (0.0000)\n",
      "108. feature 'make_chev_truck' (0.0000)\n",
      "109. feature 'interior_burgundy' (0.0000)\n",
      "110. feature 'interior_blue' (0.0000)\n",
      "111. feature 'make_daewoo' (0.0000)\n",
      "112. feature 'color_manual' (0.0000)\n",
      "113. feature 'make_ferrari' (0.0000)\n",
      "114. feature 'color_off-white' (0.0000)\n",
      "115. feature 'make_plymouth' (0.0000)\n",
      "116. feature 'color_lime' (0.0000)\n",
      "117. feature 'make_lotus' (0.0000)\n",
      "118. feature 'state_ok' (0.0000)\n",
      "119. feature 'state_al' (0.0000)\n",
      "120. feature 'state_az' (0.0000)\n",
      "121. feature 'state_ns' (0.0000)\n",
      "122. feature 'state_fl' (0.0000)\n",
      "123. feature 'state_ga' (0.0000)\n",
      "124. feature 'state_hi' (0.0000)\n",
      "125. feature 'state_in' (0.0000)\n",
      "126. feature 'state_la' (0.0000)\n",
      "127. feature 'state_mi' (0.0000)\n",
      "128. feature 'state_mn' (0.0000)\n",
      "129. feature 'state_mo' (0.0000)\n",
      "130. feature 'state_ms' (0.0000)\n",
      "131. feature 'state_nc' (0.0000)\n",
      "132. feature 'state_ne' (0.0000)\n",
      "133. feature 'state_or' (0.0000)\n",
      "134. feature 'state_sc' (0.0000)\n",
      "135. feature 'state_ut' (0.0000)\n",
      "136. feature 'color_burgundy' (0.0000)\n",
      "137. feature 'color_green' (0.0000)\n",
      "138. feature 'color_gray' (0.0000)\n",
      "139. feature 'color_gold' (0.0000)\n",
      "140. feature 'color_charcoal' (0.0000)\n",
      "141. feature 'make_oldsmobile' (0.0000)\n",
      "142. feature 'state_nj' (0.0000)\n",
      "143. feature 'color_brown' (0.0000)\n",
      "144. feature 'state_va' (0.0000)\n",
      "145. feature 'color_blue' (0.0000)\n",
      "146. feature 'make_rolls-royce' (0.0000)\n",
      "147. feature 'color_beige' (0.0000)\n",
      "148. feature 'color_automatic' (0.0000)\n",
      "149. feature 'state_wi' (0.0000)\n",
      "150. feature 'make_tesla' (0.0000)\n",
      "151. feature 'transmission_manual' (0.0000)\n"
     ]
    }
   ],
   "source": [
    "importances=lgbmr.feature_importances_\n",
    "indices = np.argsort(importances)[::-1]\n",
    "feature_names=lgbmr.feature_name_\n",
    "print(\"Feature importances:\")\n",
    "for f, idx in enumerate(indices):\n",
    "    i+=1\n",
    "    print(\"{:2d}. feature '{:5s}' ({:.4f})\".format(f + 1, feature_names[idx], importances[idx]))"
   ]
  },
  {
   "cell_type": "code",
   "execution_count": null,
   "id": "3e78636a",
   "metadata": {},
   "outputs": [],
   "source": [
    "#Получим 10 наиболее важных признаки для лучшей модели на тестовых данных."
   ]
  },
  {
   "cell_type": "code",
   "execution_count": 97,
   "id": "269f5e4e",
   "metadata": {},
   "outputs": [
    {
     "data": {
      "image/png": "[encoded data removed]",
      "text/plain": [
       "<Figure size 800x800 with 1 Axes>"
      ]
     },
     "metadata": {},
     "output_type": "display_data"
    }
   ],
   "source": [
    "d_first = 10\n",
    "plt.figure(figsize=(8, 8))\n",
    "plt.title(\"Feature importances\")\n",
    "plt.bar(range(d_first), importances[indices[:d_first]], align='center')\n",
    "plt.xticks(range(d_first), np.array(feature_names)[indices[:d_first]], rotation=30, ha='right')\n",
    "plt.xlim([-1, d_first]);"
   ]
  },
  {
   "cell_type": "markdown",
   "id": "001048e6",
   "metadata": {},
   "source": [
    "Из полученных данных видно, что наиболее важные признаки это - модель, модификация, год выпуска, пробег и тип кузова."
   ]
  },
  {
   "cell_type": "markdown",
   "id": "954f76da",
   "metadata": {},
   "source": [
    "## Выводы"
   ]
  },
  {
   "cell_type": "markdown",
   "id": "e0fd9efc",
   "metadata": {},
   "source": [
    "    1. Проведен анализ данных для задачи регрессии - прогнозирование цены автомобиля на вторичном рынке.\n",
    "    2. Заполнены пропуски в данных и исключены выбросы. Пропуски заполнялись следующим образом. Отсутствие пробега - данные исключались, отсутствующие категориальные данные - вводилась категория \"не указано\" (Н/у).\n",
    "    3. Для обучения моделей категориальные данные кодировались методом OHE (количество категорий уменьшалось путем удаления повторений), за исключением данных по производителю, продовцу и типу кузова - здесь данные кодировались так: категории присваивалось число равное частоте встречаемости в данных. Количественные данные нормировались методом MinMaxScaller. Общее количество признаков для обучения составило - 151, количество данных ~ 410к.\n",
    "    4. Было обучено и протестировано 8 алгоритмов обучения. 4 алгоритма на основе ансамбля: Random Forest Regressor, Gradient Boosting Regressor , LightGBM , XGBoost  (CatBoost-не разобрался с ошибкой). Линейной моделью была Linear Regressor. Также были модели обченные методами MLPRegressor и DecisionTreeRegressor. Все модели были обучены с некоторыми выбранными гиперпараметрами, с целью уменьшения переобучения без больших вычислительных затрат. Все модели оценивались с использованием показателя MAPE - средняя абсолютная ошибка в процентах. Для каждой модели был создан график, показывающий результирующий прогноз по сравнению с метками в виде подгонки модели. Некоторые из моделей имели возможность учитывать категориальные признаки и кодировать их напрямую - регрессор LightGBM и CatBoost (не разобрадся с ошибкой). Были созданы две модели LightGBM, одна из которых не учитывала категориальные признаки и принимала основные предварительно обработанные данные, а другая принимала необработанные данные с категориальными признаками, имеющими тип данных «категория». Оба разделения данных были сгенерированы/разделены с использованием одного и того же случайного состояния, чтобы можно было воспроизвести результаты. Остальные модели были обучены на данных, которые предварительно нормировались и кодировались. \n",
    "    5. За неимением достаточного количества времени не имелось возможность произвести перебор гиперпараметров для лучших моделей по большей сетке, чем предварительная.\n",
    "    6. Наилучший показатель MAPE на тестовых данныхпоказала модель LightGBM, обученная на размеченных данных \"в ручную\" методом LightGBM (с гиперпараметрами 'regressor__learning_rate': 0.05, 'regressor__n_estimators': 100, 'regressor__num_leaves': 120, 'regressor__random_state': 1) MAPE, которой равен 19.58 (19.41).\n",
    "    7. Оценка важности признаков для лучшей модели показала, что наиболее значимые признаки (в порядке убывания значимости) - модель, модификация, год выпуска, пробег и тип кузова.\n",
    "    8. Предполагается доработка задачи с поиском оптимальных параметров на большей сетке, при кросс-валидации данные не перемешивались, что необходимо исправить. "
   ]
  }
 ],
 "metadata": {
  "kernelspec": {
   "display_name": "Python 3 (ipykernel)",
   "language": "python",
   "name": "python3"
  },
  "language_info": {
   "codemirror_mode": {
    "name": "ipython",
    "version": 3
   },
   "file_extension": ".py",
   "mimetype": "text/x-python",
   "name": "python",
   "nbconvert_exporter": "python",
   "pygments_lexer": "ipython3",
   "version": "3.10.9"
  }
 },
 "nbformat": 4,
 "nbformat_minor": 5
}
